{
 "cells": [
  {
   "cell_type": "markdown",
   "id": "d290cd93-ea1d-478a-808d-128598b8d4af",
   "metadata": {
    "pycharm": {
     "name": "#%%\n"
    }
   },
   "source": [
    "# Device-specific field calibration\n",
    "\n",
    "## $N_0$ Parameter Calibration\n",
    "\n",
    "The calibration of a Cosmic-Ray Neutron Probe (CRNP) is an essential step to ensure accurate soil moisture measurements. The CRNP operates by counting fast neutrons produced from cosmic rays, which are predominantly moderated by water molecules in the soil. The parameter $N_0$ is a device-specific constant that signifies the neutron count rate under zero soil moisture conditions. \n",
    "\n",
    "$\\theta(N) =\\frac{a_0}{(\\frac{N}{N_0}) - a_1} - a_2 $ (Desilets et al., 2010).\n",
    "\n",
    "## Determining field soil moisture\n",
    "\n",
    "### Soil sampling layout\n",
    "\n",
    "14 cores were collected from different distances. In this example each soil sample was split into four depth segments: 0-5 cm, 5-10 cm, 10-25 cm, and 25-40 cm. Soil samples were processed and soil moisture was determined using the thermo-gravimetric method.\n",
    "\n",
    "<img src=\"../../../img/layout.png\" style=\"max-width:500px\">\n",
    "\n",
    "Figure 1. Horizontal layout and vertical layout used in this particular example calibration, it can be customized by the user depending on their needs.\n",
    "\n",
    "### Template for data collection\n",
    "\n",
    "[Download the following template](https://github.com/soilwater/crnpy/blob/main/docs/examples/calibration/template.xlsx) spreadsheet for collecting soil samples data:\n",
    "\n",
    "<img src=\"../../../img/template.png\" style=\"max-width:500px\">\n"
   ]
  },
  {
   "cell_type": "code",
   "execution_count": 1,
   "id": "130e6b13",
   "metadata": {
    "collapsed": false,
    "jupyter": {
     "outputs_hidden": false
    },
    "pycharm": {
     "name": "#%%\n"
    }
   },
   "outputs": [],
   "source": [
    "# Importing required libraries\n",
    "from scipy.optimize import root\n",
    "import pandas as pd\n",
    "import numpy as np\n",
    "from crnpy import crnpy\n",
    "\n",
    "# Import dataframes \n",
    "\n",
    "# Load the soil samples data and the CRNP dataset using pandas\n",
    "df_soil = pd.read_csv(\"https://raw.githubusercontent.com/soilwater/crnpy/main/docs/examples/calibration/soil_data.csv\")\n",
    "\n",
    "# Load the station data\n",
    "df_station = pd.read_csv(\"https://raw.githubusercontent.com/soilwater/crnpy/main/docs/examples/calibration/station_data.csv\", skiprows=[0,2,3])\n"
   ]
  },
  {
   "cell_type": "markdown",
   "id": "3f3960bd-70f8-4881-baf7-7dab7dcd8374",
   "metadata": {},
   "source": [
    "### Sample processing\n",
    "\n",
    "For each sample it is required to know the bulk density ($\\rho_\\beta$) and the volumetric water content ($\\theta_v$). See the details of the calculation used in the [filled example](https://github.com/soilwater/crnpy/blob/main/docs/examples/calibration/soil_data.csv). \n",
    "\n",
    "### Field average\n",
    "\n",
    "Using the function [`nrad_weight()`](../../../reference/#crnpy.crnpy.nrad_weight) the weights corresponding to each soil sample will be computed considering air-humidity, sample depth, distance from station and bulk density.\n",
    "Station data is used to calculate the absolute humidty from temperature an relative humidity data with [`estimate_abs_humidity()`](../../../reference/#crnpy.crnpy.estimate_abs_humidity)."
   ]
  },
  {
   "cell_type": "code",
   "execution_count": 2,
   "id": "457e6db7-a5ab-4424-a93b-7b0f4a46fe45",
   "metadata": {},
   "outputs": [
    {
     "name": "stdout",
     "output_type": "stream",
     "text": [
      "Field Volumetric Water content: 0.263\n"
     ]
    }
   ],
   "source": [
    "#  Parse dates\n",
    "df_station['TIMESTAMP'] = pd.to_datetime(df_station['TIMESTAMP'])\n",
    "\n",
    "# Define dates\n",
    "deployment_date = df_station['TIMESTAMP'].iloc[0]\n",
    "# Soil sampling timestamp\n",
    "calibration_start = pd.to_datetime(\"2021-10-22 08:00\")\n",
    "calibration_end = pd.to_datetime(\"2021-10-22 16:00\")\n",
    "\n",
    "\n",
    "# Filter data matching the sampling date\n",
    "df_station_calib = df_station[(df_station['TIMESTAMP'] > calibration_start) & (df_station['TIMESTAMP'] < calibration_end)].copy()\n",
    "\n",
    "#Calculate absolute humidity\n",
    "df_station_calib['abs_h'] = crnpy.estimate_abs_humidity(df_station_calib['relative_humidity_Avg'], df_station_calib['air_temperature_Avg'])\n",
    "\n",
    "# Compute the weights of each sample for the field average (https://en.wikipedia.org/wiki/Weighted_arithmetic_mean)\n",
    "nrad_weights = crnpy.nrad_weight(df_station_calib['abs_h'].mean(), df_soil['theta_v'], df_soil['distance_from_station'], (df_soil['bottom_depth']+df_soil['top_depth'])/2, rhob=df_soil['bulk_density'].mean())\n",
    "\n",
    "field_theta_v = np.sum(df_soil['theta_v']*nrad_weights)\n",
    "field_bulk_density = np.sum(df_soil['bulk_density']*nrad_weights)\n",
    "print(f\"Field Volumetric Water content: {round(field_theta_v,3)}\")"
   ]
  },
  {
   "cell_type": "markdown",
   "id": "ac9286e1-d043-4bdc-9971-c3341bee2b4f",
   "metadata": {},
   "source": [
    "## Neutron count processing\n",
    "\n",
    "Following a similar approach as the example for [Stationary CRNP](../../stationary/example_RDT_station/) neutron counts recorded while the field sampling was done will be corrected."
   ]
  },
  {
   "cell_type": "code",
   "execution_count": 3,
   "id": "18744d32-f52d-4db7-bfbb-a78a343243a1",
   "metadata": {
    "tags": []
   },
   "outputs": [
    {
     "data": {
      "text/html": [
       "<div>\n",
       "<style scoped>\n",
       "    .dataframe tbody tr th:only-of-type {\n",
       "        vertical-align: middle;\n",
       "    }\n",
       "\n",
       "    .dataframe tbody tr th {\n",
       "        vertical-align: top;\n",
       "    }\n",
       "\n",
       "    .dataframe thead th {\n",
       "        text-align: right;\n",
       "    }\n",
       "</style>\n",
       "<table border=\"1\" class=\"dataframe\">\n",
       "  <thead>\n",
       "    <tr style=\"text-align: right;\">\n",
       "      <th></th>\n",
       "      <th>TIMESTAMP</th>\n",
       "      <th>RECORD</th>\n",
       "      <th>station</th>\n",
       "      <th>farm</th>\n",
       "      <th>field</th>\n",
       "      <th>latitude</th>\n",
       "      <th>longitude</th>\n",
       "      <th>altitude</th>\n",
       "      <th>battery_voltage_Min</th>\n",
       "      <th>PTemp_Avg</th>\n",
       "      <th>...</th>\n",
       "      <th>wind_speed_gust_Max</th>\n",
       "      <th>air_temperature_Avg</th>\n",
       "      <th>vapor_pressure_Avg</th>\n",
       "      <th>barometric_pressure_Avg</th>\n",
       "      <th>relative_humidity_Avg</th>\n",
       "      <th>humidity_sensor_temperature_Avg</th>\n",
       "      <th>tilt_north_south_Avg</th>\n",
       "      <th>tilt_west_east_Avg</th>\n",
       "      <th>NDVI_Avg</th>\n",
       "      <th>abs_h</th>\n",
       "    </tr>\n",
       "    <tr>\n",
       "      <th>TIMESTAMP</th>\n",
       "      <th></th>\n",
       "      <th></th>\n",
       "      <th></th>\n",
       "      <th></th>\n",
       "      <th></th>\n",
       "      <th></th>\n",
       "      <th></th>\n",
       "      <th></th>\n",
       "      <th></th>\n",
       "      <th></th>\n",
       "      <th></th>\n",
       "      <th></th>\n",
       "      <th></th>\n",
       "      <th></th>\n",
       "      <th></th>\n",
       "      <th></th>\n",
       "      <th></th>\n",
       "      <th></th>\n",
       "      <th></th>\n",
       "      <th></th>\n",
       "      <th></th>\n",
       "    </tr>\n",
       "  </thead>\n",
       "  <tbody>\n",
       "    <tr>\n",
       "      <th>2021-10-22 09:00:00</th>\n",
       "      <td>2021-10-22 09:00:00</td>\n",
       "      <td>706</td>\n",
       "      <td>KS003</td>\n",
       "      <td>Flickner</td>\n",
       "      <td>Rainfed South</td>\n",
       "      <td>38.23461</td>\n",
       "      <td>-97.57095</td>\n",
       "      <td>455</td>\n",
       "      <td>13.77</td>\n",
       "      <td>17.33</td>\n",
       "      <td>...</td>\n",
       "      <td>8.17</td>\n",
       "      <td>11.68</td>\n",
       "      <td>10.18</td>\n",
       "      <td>965</td>\n",
       "      <td>73.95</td>\n",
       "      <td>13.38</td>\n",
       "      <td>-0.775</td>\n",
       "      <td>0.975</td>\n",
       "      <td>0.26</td>\n",
       "      <td>7.719789</td>\n",
       "    </tr>\n",
       "    <tr>\n",
       "      <th>2021-10-22 10:00:00</th>\n",
       "      <td>2021-10-22 10:00:00</td>\n",
       "      <td>707</td>\n",
       "      <td>KS003</td>\n",
       "      <td>Flickner</td>\n",
       "      <td>Rainfed South</td>\n",
       "      <td>38.23461</td>\n",
       "      <td>-97.57095</td>\n",
       "      <td>455</td>\n",
       "      <td>13.66</td>\n",
       "      <td>22.37</td>\n",
       "      <td>...</td>\n",
       "      <td>7.58</td>\n",
       "      <td>15.10</td>\n",
       "      <td>10.98</td>\n",
       "      <td>964</td>\n",
       "      <td>64.33</td>\n",
       "      <td>17.40</td>\n",
       "      <td>-0.775</td>\n",
       "      <td>1.250</td>\n",
       "      <td>0.266</td>\n",
       "      <td>8.293183</td>\n",
       "    </tr>\n",
       "    <tr>\n",
       "      <th>2021-10-22 11:00:00</th>\n",
       "      <td>2021-10-22 11:00:00</td>\n",
       "      <td>708</td>\n",
       "      <td>KS003</td>\n",
       "      <td>Flickner</td>\n",
       "      <td>Rainfed South</td>\n",
       "      <td>38.23461</td>\n",
       "      <td>-97.57095</td>\n",
       "      <td>455</td>\n",
       "      <td>13.60</td>\n",
       "      <td>25.88</td>\n",
       "      <td>...</td>\n",
       "      <td>8.05</td>\n",
       "      <td>18.30</td>\n",
       "      <td>10.98</td>\n",
       "      <td>964</td>\n",
       "      <td>52.10</td>\n",
       "      <td>21.20</td>\n",
       "      <td>-0.850</td>\n",
       "      <td>1.150</td>\n",
       "      <td>0.265</td>\n",
       "      <td>8.140162</td>\n",
       "    </tr>\n",
       "    <tr>\n",
       "      <th>2021-10-22 12:00:00</th>\n",
       "      <td>2021-10-22 12:00:00</td>\n",
       "      <td>709</td>\n",
       "      <td>KS003</td>\n",
       "      <td>Flickner</td>\n",
       "      <td>Rainfed South</td>\n",
       "      <td>38.23461</td>\n",
       "      <td>-97.57095</td>\n",
       "      <td>455</td>\n",
       "      <td>13.58</td>\n",
       "      <td>27.63</td>\n",
       "      <td>...</td>\n",
       "      <td>8.10</td>\n",
       "      <td>20.75</td>\n",
       "      <td>10.85</td>\n",
       "      <td>963</td>\n",
       "      <td>44.40</td>\n",
       "      <td>23.80</td>\n",
       "      <td>-0.800</td>\n",
       "      <td>1.000</td>\n",
       "      <td>0.262</td>\n",
       "      <td>8.010780</td>\n",
       "    </tr>\n",
       "    <tr>\n",
       "      <th>2021-10-22 13:00:00</th>\n",
       "      <td>2021-10-22 13:00:00</td>\n",
       "      <td>710</td>\n",
       "      <td>KS003</td>\n",
       "      <td>Flickner</td>\n",
       "      <td>Rainfed South</td>\n",
       "      <td>38.23461</td>\n",
       "      <td>-97.57095</td>\n",
       "      <td>455</td>\n",
       "      <td>13.59</td>\n",
       "      <td>27.94</td>\n",
       "      <td>...</td>\n",
       "      <td>10.00</td>\n",
       "      <td>21.83</td>\n",
       "      <td>11.10</td>\n",
       "      <td>962</td>\n",
       "      <td>42.25</td>\n",
       "      <td>24.93</td>\n",
       "      <td>-1.575</td>\n",
       "      <td>1.650</td>\n",
       "      <td>0.256</td>\n",
       "      <td>8.114954</td>\n",
       "    </tr>\n",
       "  </tbody>\n",
       "</table>\n",
       "<p>5 rows × 28 columns</p>\n",
       "</div>"
      ],
      "text/plain": [
       "                              TIMESTAMP  RECORD station      farm   \n",
       "TIMESTAMP                                                           \n",
       "2021-10-22 09:00:00 2021-10-22 09:00:00     706   KS003  Flickner  \\\n",
       "2021-10-22 10:00:00 2021-10-22 10:00:00     707   KS003  Flickner   \n",
       "2021-10-22 11:00:00 2021-10-22 11:00:00     708   KS003  Flickner   \n",
       "2021-10-22 12:00:00 2021-10-22 12:00:00     709   KS003  Flickner   \n",
       "2021-10-22 13:00:00 2021-10-22 13:00:00     710   KS003  Flickner   \n",
       "\n",
       "                             field  latitude  longitude  altitude   \n",
       "TIMESTAMP                                                           \n",
       "2021-10-22 09:00:00  Rainfed South  38.23461  -97.57095       455  \\\n",
       "2021-10-22 10:00:00  Rainfed South  38.23461  -97.57095       455   \n",
       "2021-10-22 11:00:00  Rainfed South  38.23461  -97.57095       455   \n",
       "2021-10-22 12:00:00  Rainfed South  38.23461  -97.57095       455   \n",
       "2021-10-22 13:00:00  Rainfed South  38.23461  -97.57095       455   \n",
       "\n",
       "                     battery_voltage_Min  PTemp_Avg  ...  wind_speed_gust_Max   \n",
       "TIMESTAMP                                            ...                        \n",
       "2021-10-22 09:00:00                13.77      17.33  ...                 8.17  \\\n",
       "2021-10-22 10:00:00                13.66      22.37  ...                 7.58   \n",
       "2021-10-22 11:00:00                13.60      25.88  ...                 8.05   \n",
       "2021-10-22 12:00:00                13.58      27.63  ...                 8.10   \n",
       "2021-10-22 13:00:00                13.59      27.94  ...                10.00   \n",
       "\n",
       "                     air_temperature_Avg  vapor_pressure_Avg   \n",
       "TIMESTAMP                                                      \n",
       "2021-10-22 09:00:00                11.68               10.18  \\\n",
       "2021-10-22 10:00:00                15.10               10.98   \n",
       "2021-10-22 11:00:00                18.30               10.98   \n",
       "2021-10-22 12:00:00                20.75               10.85   \n",
       "2021-10-22 13:00:00                21.83               11.10   \n",
       "\n",
       "                     barometric_pressure_Avg  relative_humidity_Avg   \n",
       "TIMESTAMP                                                             \n",
       "2021-10-22 09:00:00                      965                  73.95  \\\n",
       "2021-10-22 10:00:00                      964                  64.33   \n",
       "2021-10-22 11:00:00                      964                  52.10   \n",
       "2021-10-22 12:00:00                      963                  44.40   \n",
       "2021-10-22 13:00:00                      962                  42.25   \n",
       "\n",
       "                     humidity_sensor_temperature_Avg  tilt_north_south_Avg   \n",
       "TIMESTAMP                                                                    \n",
       "2021-10-22 09:00:00                            13.38                -0.775  \\\n",
       "2021-10-22 10:00:00                            17.40                -0.775   \n",
       "2021-10-22 11:00:00                            21.20                -0.850   \n",
       "2021-10-22 12:00:00                            23.80                -0.800   \n",
       "2021-10-22 13:00:00                            24.93                -1.575   \n",
       "\n",
       "                     tilt_west_east_Avg  NDVI_Avg     abs_h  \n",
       "TIMESTAMP                                                    \n",
       "2021-10-22 09:00:00               0.975      0.26  7.719789  \n",
       "2021-10-22 10:00:00               1.250     0.266  8.293183  \n",
       "2021-10-22 11:00:00               1.150     0.265  8.140162  \n",
       "2021-10-22 12:00:00               1.000     0.262  8.010780  \n",
       "2021-10-22 13:00:00               1.650     0.256  8.114954  \n",
       "\n",
       "[5 rows x 28 columns]"
      ]
     },
     "execution_count": 3,
     "metadata": {},
     "output_type": "execute_result"
    }
   ],
   "source": [
    "df = df_station_calib.copy()\n",
    "# Set timestamp as index\n",
    "df.set_index(df['TIMESTAMP'], inplace=True)\n",
    "df.head()\n"
   ]
  },
  {
   "cell_type": "markdown",
   "id": "a478b9fb-57a4-409c-83f2-b9debc80202a",
   "metadata": {},
   "source": [
    "#### Computing total neutron counts\n",
    "\n"
   ]
  },
  {
   "cell_type": "code",
   "execution_count": 4,
   "id": "9fa16a88-c65a-4242-86d6-5c41ab63c6f2",
   "metadata": {},
   "outputs": [],
   "source": [
    "df['total_counts'] = crnpy.compute_total_raw_counts(df[['counts_1_Tot','counts_2_Tot']], nan_strategy='average')\n"
   ]
  },
  {
   "cell_type": "markdown",
   "id": "3477b8ce-46e0-4cfd-a3da-116b199d79dc",
   "metadata": {},
   "source": [
    "#### Incomming neutron flux\n",
    "Download the neutron flux for all the experiment, setting the reference value as the value when the station was deployed."
   ]
  },
  {
   "cell_type": "code",
   "execution_count": 5,
   "id": "729d0291-94d2-469b-a599-356cf7977a2c",
   "metadata": {},
   "outputs": [
    {
     "name": "stdout",
     "output_type": "stream",
     "text": [
      "\n",
      "Select a station with an altitude similar to that of your location. For more information go to: 'https://www.nmdb.eu/nest/help.php#helpstations\n",
      "\n",
      "Your cutoff rigidity is 2.87 GV\n",
      "     STID     NAME     R  Altitude_m  Period available\n",
      "13   DRBS  Dourbes  3.18         225              True\n",
      "40   NEWK   Newark  2.40          50              True\n",
      "28  KIEL2   KielRT  2.36          54              True\n"
     ]
    },
    {
     "name": "stderr",
     "output_type": "stream",
     "text": [
      "C:\\Users\\jperaza\\AppData\\Local\\anaconda3\\envs\\crnpy\\lib\\site-packages\\crnpy\\crnpy.py:473: UserWarning: Reference incoming neutron flux not provided. Using first value of incoming neutron flux.\n",
      "  warnings.warn('Reference incoming neutron flux not provided. Using first value of incoming neutron flux.')\n"
     ]
    }
   ],
   "source": [
    "# Find stations with cutoff rigidity similar to the one estimated by lat,lon, \n",
    "# Filtering the time window from experiment setup to the end of the calibration\n",
    "crnpy.find_neutron_monitor(crnpy.cutoff_rigidity(39.1, -96.6), start_date = deployment_date, end_date = calibration_end)\n",
    "\n",
    "#Download data for one of the similar stations and add to df\n",
    "incoming_neutrons = crnpy.get_incoming_neutron_flux(deployment_date, calibration_end, station=\"DRBS\", utc_offset=-5)\n",
    "df['incoming_flux']=crnpy.interpolate_incoming_flux(incoming_neutrons, timestamps=df['TIMESTAMP'])\n",
    "ref_incoming_flux = incoming_neutrons.iloc[0]\n",
    "df['corrected'] = crnpy.incoming_flux_correction(df['total_counts'], incoming_neutrons=df['incoming_flux'])\n"
   ]
  },
  {
   "cell_type": "markdown",
   "id": "a73864ba-d086-4ea0-9722-f1995d72e345",
   "metadata": {},
   "source": [
    "#### Atmospheric correction\n",
    "\n",
    "The atmospheric correction factors will correct neutron counts for atmospheric pressure and absolute humidity changes."
   ]
  },
  {
   "cell_type": "code",
   "execution_count": 6,
   "id": "6a146046-a47d-4018-91e9-213075a70da9",
   "metadata": {},
   "outputs": [],
   "source": [
    "# Fill NaN values in atmospheric data\n",
    "df[['pressure', 'RH', 'T']] = crnpy.fill_missing_atm(df[['barometric_pressure_Avg', 'relative_humidity_Avg', 'air_temperature_Avg']])\n",
    "\n",
    "# Correct count by atmospheric variables and incoming flux\n",
    "df['corrected'] = crnpy.humidity_correction(df['corrected'],humidity=df['RH'], temp=df['T'], Aref=0)\n",
    "df['corrected'] = crnpy.pressure_correction(df['corrected'], pressure=df['pressure'], Pref=976, L=130)\n"
   ]
  },
  {
   "cell_type": "code",
   "execution_count": 7,
   "id": "6b3b169a-9900-4077-988c-be9df3ce67bf",
   "metadata": {},
   "outputs": [
    {
     "name": "stdout",
     "output_type": "stream",
     "text": [
      "Mean corrected neutron count during sampling: 1537\n"
     ]
    }
   ],
   "source": [
    "print(f\"Mean corrected neutron count during sampling: {int(df['corrected'].mean())}\")\n"
   ]
  },
  {
   "cell_type": "markdown",
   "id": "a6afe1e9-5d72-4dbb-a5f9-edc53a928cc4",
   "metadata": {},
   "source": [
    "## Solving the equation for $N_0$\n",
    "\n",
    "Previous steps estimated the a field volumetric water content of `0.256` and an average neutron count of `1538`. Using [`scipy.optimize.root()`](https://docs.scipy.org/doc/scipy/reference/generated/scipy.optimize.root.html) $N_0$ is estimated given the observed value of $\\theta_v$ and neutron counts."
   ]
  },
  {
   "cell_type": "code",
   "execution_count": 8,
   "id": "7f1e3c4f-3f0e-43d8-b763-e9b318d18566",
   "metadata": {},
   "outputs": [
    {
     "name": "stdout",
     "output_type": "stream",
     "text": [
      "The solved value for N0 is: 2636\n"
     ]
    }
   ],
   "source": [
    "# Define the function for which we want to find the roots\n",
    "VWC_func = lambda N0 : crnpy.counts_to_vwc(df['corrected'].mean(), N0, bulk_density=field_bulk_density, Wlat=0.03, Wsoc=0.01) - field_theta_v\n",
    "\n",
    "# Make an initial guess for N0\n",
    "N0_initial_guess = 1000\n",
    "\n",
    "# Find the root\n",
    "sol = int(root(VWC_func, N0_initial_guess).x)\n",
    "\n",
    "# Print the solution\n",
    "print(f\"The solved value for N0 is: {sol}\")\n"
   ]
  },
  {
   "cell_type": "markdown",
   "id": "9148936d-8360-4eef-b89f-8631a257ff25",
   "metadata": {},
   "source": [
    "## References: \n",
    "Desilets, D., Zreda, M., & Ferré, T. P. (2010). Nature's neutron probe: Land surface hydrology at an elusive scale with cosmic rays. Water Resources Research, 46(11).\n",
    "\n",
    "Dong, J., & Ochsner, T. E. (2018). Soil texture often exerts a stronger influence than precipitation on mesoscale soil moisture patterns. Water Resources Research, 54(3), 2199-2211.\n",
    "\n",
    "Patrignani, A., Ochsner, T. E., Montag, B., & Bellinger, S. (2021). A novel lithium foil cosmic-ray neutron detector for measuring field-scale soil moisture. Frontiers in Water, 3, 673185."
   ]
  }
 ],
 "metadata": {
  "kernelspec": {
   "display_name": "Python 3 (ipykernel)",
   "language": "python",
   "name": "python3"
  },
  "language_info": {
   "codemirror_mode": {
    "name": "ipython",
    "version": 3
   },
   "file_extension": ".py",
   "mimetype": "text/x-python",
   "name": "python",
   "nbconvert_exporter": "python",
   "pygments_lexer": "ipython3",
   "version": "3.10.10"
  }
 },
 "nbformat": 4,
 "nbformat_minor": 5
}
