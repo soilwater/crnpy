{
 "cells": [
  {
   "cell_type": "markdown",
   "id": "2b2604c0-cb6b-4c45-803f-c3c23f0f6631",
   "metadata": {},
   "source": [
    "### CRNPy example using Radiation Detection Technologies, Inc neutron detectors readings"
   ]
  },
  {
   "cell_type": "code",
   "execution_count": 1,
   "id": "58b8596e-2a3e-437f-be26-af4420dac78a",
   "metadata": {},
   "outputs": [],
   "source": [
    "import pandas as pd\n",
    "import numpy as np\n",
    "from crnpy import crnpy"
   ]
  },
  {
   "cell_type": "code",
   "execution_count": 2,
   "id": "b579d936-8d09-41b3-bad7-8d1dc624ea93",
   "metadata": {},
   "outputs": [],
   "source": [
    "df = pd.read_csv(\"calibration/rdt_stationary_lifoil/rdt.csv\", names=['timestamp','pressure','RH', 'T','DP','BattVolt','counts_1','counts_2','counts_3','counts_total'])"
   ]
  },
  {
   "cell_type": "code",
   "execution_count": 3,
   "id": "dabb51bc-640a-4682-8091-ffc96713cd97",
   "metadata": {},
   "outputs": [],
   "source": [
    "df['timestamp'] = pd.to_datetime(df['timestamp'])\n"
   ]
  },
  {
   "cell_type": "code",
   "execution_count": 5,
   "id": "62bc1aa4-c3cb-4cc5-b546-db2b18022d0d",
   "metadata": {},
   "outputs": [
    {
     "name": "stdout",
     "output_type": "stream",
     "text": [
      "dectors with nan: [False, True, False]\n",
      "Before filling nan: True\n",
      "[ 743.  722.  753.  782.  784.  809.  744.  715.  766.  758. 1211.  924.\n",
      "  823.  830.  837.  811.  818.  805.  720.  734.]\n"
     ]
    },
    {
     "ename": "IndexError",
     "evalue": "invalid index to scalar variable.",
     "output_type": "error",
     "traceback": [
      "\u001b[1;31m---------------------------------------------------------------------------\u001b[0m",
      "\u001b[1;31mIndexError\u001b[0m                                Traceback (most recent call last)",
      "Cell \u001b[1;32mIn [5], line 15\u001b[0m\n\u001b[0;32m     13\u001b[0m \u001b[38;5;28mprint\u001b[39m(counts_2[\u001b[38;5;241m-\u001b[39m\u001b[38;5;241m20\u001b[39m:])\n\u001b[0;32m     14\u001b[0m \u001b[38;5;66;03m# Fill nan values in detector 2\u001b[39;00m\n\u001b[1;32m---> 15\u001b[0m counts_2, counts \u001b[38;5;241m=\u001b[39m \u001b[43mcrnpy\u001b[49m\u001b[38;5;241;43m.\u001b[39;49m\u001b[43mfill_counts\u001b[49m\u001b[43m(\u001b[49m\u001b[43mcounts_2\u001b[49m\u001b[43m,\u001b[49m\u001b[43m \u001b[49m\u001b[43mcount_times_2\u001b[49m\u001b[43m,\u001b[49m\u001b[43m \u001b[49m\u001b[43mdf\u001b[49m\u001b[43m[\u001b[49m\u001b[38;5;124;43m'\u001b[39;49m\u001b[38;5;124;43mtimestamp\u001b[39;49m\u001b[38;5;124;43m'\u001b[39;49m\u001b[43m]\u001b[49m\u001b[38;5;241;43m.\u001b[39;49m\u001b[43mvalues\u001b[49m\u001b[43m)\u001b[49m\n\u001b[0;32m     16\u001b[0m \u001b[38;5;28mprint\u001b[39m(counts_2[\u001b[38;5;241m-\u001b[39m\u001b[38;5;241m20\u001b[39m:])\n\u001b[0;32m     17\u001b[0m \u001b[38;5;28mprint\u001b[39m(\u001b[38;5;124m\"\u001b[39m\u001b[38;5;124mAfter filling nan:\u001b[39m\u001b[38;5;124m\"\u001b[39m, np\u001b[38;5;241m.\u001b[39misnan(counts_2)\u001b[38;5;241m.\u001b[39many())\n",
      "File \u001b[1;32m~\\Anaconda3\\envs\\lidar\\Lib\\site-packages\\crnpy\\crnpy.py:131\u001b[0m, in \u001b[0;36mfill_counts\u001b[1;34m(count_cols, cols_time, timestamp, count_time, threshold)\u001b[0m\n\u001b[0;32m    129\u001b[0m     idx_fill \u001b[38;5;241m=\u001b[39m cols_time[k] \u001b[38;5;241m>\u001b[39m time_threshold\n\u001b[0;32m    130\u001b[0m     count_cols[k][idx_fill] \u001b[38;5;241m=\u001b[39m np\u001b[38;5;241m.\u001b[39mround(np\u001b[38;5;241m.\u001b[39minterp(timestamp[idx_fill], timestamp[\u001b[38;5;241m~\u001b[39mnp\u001b[38;5;241m.\u001b[39misnan(count_cols[k])], count_cols[k][\u001b[38;5;241m~\u001b[39mnp\u001b[38;5;241m.\u001b[39misnan(count_cols[k])]))\n\u001b[1;32m--> 131\u001b[0m     count_cols[k][idx_fill] \u001b[38;5;241m=\u001b[39m np\u001b[38;5;241m.\u001b[39mround(np\u001b[38;5;241m.\u001b[39minterp(\u001b[43mtimestamp\u001b[49m\u001b[43m[\u001b[49m\u001b[43mk\u001b[49m\u001b[43m]\u001b[49m\u001b[43m[\u001b[49m\u001b[43midx_fill\u001b[49m\u001b[43m]\u001b[49m, timestamp[\u001b[38;5;241m~\u001b[39mnp\u001b[38;5;241m.\u001b[39misnan(cols_time[k])],cols_time[k][\u001b[38;5;241m~\u001b[39mnp\u001b[38;5;241m.\u001b[39misnan(cols_time[k])]))\n\u001b[0;32m    133\u001b[0m     \u001b[38;5;66;03m#source.loc[idx_fill,cols_count[k]] = (source.loc[idx_fill,cols_count[k]]*count_time/source.loc[idx_fill,cols_time[k]]).round()\u001b[39;00m\n\u001b[0;32m    134\u001b[0m     \u001b[38;5;66;03m#source.loc[idx_fill,cols_time[k]] = count_time\u001b[39;00m\n\u001b[0;32m    136\u001b[0m \u001b[38;5;28;01mif\u001b[39;00m export1d:\n",
      "\u001b[1;31mIndexError\u001b[0m: invalid index to scalar variable."
     ]
    }
   ],
   "source": [
    "# Get counting times, both examples convert the df to valid 2d numpy arrays.\n",
    "count_times_1, count_times_2, count_times_3 = crnpy.count_time(df[['counts_1','counts_2','counts_3']].T.to_numpy(), df['timestamp'])\n",
    "#count_times_1, count_times_2, count_times_3=crnpy.count_time([df['counts_1'],df['counts_2'],df['counts_3']], df['timestamp'])\n",
    "\n",
    "# Check counts for nan values in the counts\n",
    "print(\"dectors with nan:\", [df['counts_1'].isna().any(),df['counts_2'].isna().any(),df['counts_3'].isna().any()])\n",
    "\n",
    "counts_1 = df['counts_1'].to_numpy()\n",
    "counts_2 = df['counts_2'].to_numpy()\n",
    "counts_3 = df['counts_3'].to_numpy()\n",
    "\n",
    "print(\"Before filling nan:\", np.isnan(counts_2).any())\n",
    "print(counts_2[-20:])\n",
    "# Fill nan values in detector 2\n",
    "counts_2, counts = crnpy.fill_counts(counts_2, count_times_2, df['timestamp'].values)\n",
    "print(counts_2[-20:])\n",
    "print(\"After filling nan:\", np.isnan(counts_2).any())\n"
   ]
  },
  {
   "cell_type": "code",
   "execution_count": 8,
   "id": "4322c8a8-f2c1-4395-89d3-8373024e8cbc",
   "metadata": {},
   "outputs": [
    {
     "name": "stdout",
     "output_type": "stream",
     "text": [
      "Processing c:\\users\\jperaza\\documents\\github\\crnpy\n",
      "  Preparing metadata (setup.py): started\n",
      "  Preparing metadata (setup.py): finished with status 'done'\n",
      "Building wheels for collected packages: crnpy\n",
      "  Building wheel for crnpy (setup.py): started\n",
      "  Building wheel for crnpy (setup.py): finished with status 'done'\n",
      "  Created wheel for crnpy: filename=crnpy-0.2.post12-py3-none-any.whl size=12566 sha256=74a33cc758d1dad657b4a39485467e8ac0f8ac8b571aefe824da085b2889b28c\n",
      "  Stored in directory: C:\\Users\\jperaza\\AppData\\Local\\Temp\\pip-ephem-wheel-cache-_k77qoa5\\wheels\\f6\\8d\\b7\\f6e2decef78c6e5165bd0aa5cfa78ff33fe08f7b23feaf279f\n",
      "Successfully built crnpy\n",
      "Installing collected packages: crnpy\n",
      "  Attempting uninstall: crnpy\n",
      "    Found existing installation: crnpy 0.2.post12\n",
      "    Uninstalling crnpy-0.2.post12:\n",
      "      Successfully uninstalled crnpy-0.2.post12\n",
      "Successfully installed crnpy-0.2.post12\n"
     ]
    }
   ],
   "source": [
    "!pip install ../"
   ]
  },
  {
   "cell_type": "code",
   "execution_count": 10,
   "id": "0ef671b1-7a05-415d-8f85-fcc6083e7034",
   "metadata": {},
   "outputs": [
    {
     "data": {
      "text/plain": [
       "array([[  848,   436,   777, ...,   853,   857,   859],\n",
       "       [  716,   720,   792, ...,   805,   720,   734],\n",
       "       [  742,   796,   708, ..., 13004,  4352,  5684]], dtype=int64)"
      ]
     },
     "execution_count": 10,
     "metadata": {},
     "output_type": "execute_result"
    }
   ],
   "source": [
    "df[['counts_1','counts_2','counts_3']].T.values"
   ]
  },
  {
   "cell_type": "code",
   "execution_count": 16,
   "id": "6780e7df-7705-4f70-984e-5446c01e3703",
   "metadata": {},
   "outputs": [
    {
     "data": {
      "text/plain": [
       "array([[  848,   436,   777, ...,   853,   857,   859],\n",
       "       [  716,   720,   792, ...,   805,   720,   734],\n",
       "       [  742,   796,   708, ..., 13004,  4352,  5684]], dtype=int64)"
      ]
     },
     "execution_count": 16,
     "metadata": {},
     "output_type": "execute_result"
    }
   ],
   "source": [
    "df[['counts_1','counts_2','counts_3']].T.to_numpy()"
   ]
  },
  {
   "cell_type": "code",
   "execution_count": 5,
   "id": "2c42ca04-9112-4cb4-9e7c-5788fa7c09f0",
   "metadata": {},
   "outputs": [
    {
     "data": {
      "text/plain": [
       "1"
      ]
     },
     "execution_count": 5,
     "metadata": {},
     "output_type": "execute_result"
    }
   ],
   "source": [
    "len(np.shape(counts_2))"
   ]
  },
  {
   "cell_type": "code",
   "execution_count": 12,
   "id": "eb1f0842-ec30-42c2-9e39-d530644688c2",
   "metadata": {},
   "outputs": [
    {
     "data": {
      "text/plain": [
       "array([ 743.,  722.,  753.,  782.,  784.,  809.,  744.,  715.,  766.,\n",
       "        758., 1211.,  924.,  823.,   nan,  837.,  811.,  818.,  805.,\n",
       "        720.,  734.])"
      ]
     },
     "execution_count": 12,
     "metadata": {},
     "output_type": "execute_result"
    }
   ],
   "source": [
    "df['counts_2'].to_numpy()[-20:]"
   ]
  },
  {
   "cell_type": "code",
   "execution_count": 5,
   "id": "f8b750c7-2faa-443a-909f-9b6e200081b5",
   "metadata": {},
   "outputs": [
    {
     "data": {
      "text/plain": [
       "array([[3600., 3600., 3600., ..., 3600., 3600., 3600.],\n",
       "       [3600., 3600., 3600., ..., 3600., 3600., 3600.],\n",
       "       [3600., 3600., 3600., ..., 3600., 3600., 3600.]])"
      ]
     },
     "execution_count": 5,
     "metadata": {},
     "output_type": "execute_result"
    }
   ],
   "source": [
    "count_times"
   ]
  },
  {
   "cell_type": "code",
   "execution_count": null,
   "id": "7f8e2a2f-bb40-45f9-86b3-23bc0ff6c8ff",
   "metadata": {},
   "outputs": [],
   "source": []
  }
 ],
 "metadata": {
  "kernelspec": {
   "display_name": "Python 3 (ipykernel)",
   "language": "python",
   "name": "python3"
  },
  "language_info": {
   "codemirror_mode": {
    "name": "ipython",
    "version": 3
   },
   "file_extension": ".py",
   "mimetype": "text/x-python",
   "name": "python",
   "nbconvert_exporter": "python",
   "pygments_lexer": "ipython3",
   "version": "3.11.0"
  }
 },
 "nbformat": 4,
 "nbformat_minor": 5
}
