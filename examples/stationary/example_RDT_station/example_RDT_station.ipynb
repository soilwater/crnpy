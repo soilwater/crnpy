{
 "cells": [
  {
   "cell_type": "markdown",
   "id": "eddf1ad2",
   "metadata": {},
   "source": [
    "# Processing and analyzing data from a stationary detector\n",
    "\n",
    "This tutorial demonstrates how to process and analyze neutron counts of epithermal neutrons recorded with a stationary cosmic-ray neutron probe consisting of three lithium-foil detectors manufactured by Radiation Detection Technologies, Inc (RDT). The tutorial covers all the steps from reading the file with raw data obtained from the probe in the field, outlier removal, atmospheric corrections, and conversion of corrected neutron counts into volumetric soil water content. \n",
    "\n",
    "The tutorial assumes that you are working within the `Anaconda` environment, which has all the necessary modules. Also, make sure that the `CRNPy` library is installed in your machine.\n",
    "\n",
    "The raw dataset to follow this example can be obtained at the [.csv file](https://raw.githubusercontent.com/soilwater/crnpy/main/docs/examples/stationary/rdt.csv).\n",
    "\n",
    "This device was installed in the vicinity of the KONA site of the National Ecological Observatory Network within the Konza Prairie Biological station (`39.110596, -96.613050, 320 meters a.s.l.`)\n"
   ]
  },
  {
   "cell_type": "code",
   "execution_count": 1,
   "id": "8ce956d4",
   "metadata": {},
   "outputs": [],
   "source": [
    "# Import required libraries\n",
    "import crnpy\n",
    "\n",
    "import pandas as pd\n",
    "import numpy as np\n",
    "import matplotlib.pyplot as plt\n"
   ]
  },
  {
   "cell_type": "code",
   "execution_count": 2,
   "id": "a18714dd",
   "metadata": {},
   "outputs": [
    {
     "data": {
      "text/html": [
       "<div>\n",
       "<style scoped>\n",
       "    .dataframe tbody tr th:only-of-type {\n",
       "        vertical-align: middle;\n",
       "    }\n",
       "\n",
       "    .dataframe tbody tr th {\n",
       "        vertical-align: top;\n",
       "    }\n",
       "\n",
       "    .dataframe thead th {\n",
       "        text-align: right;\n",
       "    }\n",
       "</style>\n",
       "<table border=\"1\" class=\"dataframe\">\n",
       "  <thead>\n",
       "    <tr style=\"text-align: right;\">\n",
       "      <th></th>\n",
       "      <th>timestamp</th>\n",
       "      <th>barometric_pressure_Avg</th>\n",
       "      <th>relative_humidity_Avg</th>\n",
       "      <th>air_temperature_Avg</th>\n",
       "      <th>DP</th>\n",
       "      <th>BattVolt</th>\n",
       "      <th>counts_1_Tot</th>\n",
       "      <th>counts_2_Tot</th>\n",
       "      <th>counts_3_Tot</th>\n",
       "    </tr>\n",
       "  </thead>\n",
       "  <tbody>\n",
       "    <tr>\n",
       "      <th>0</th>\n",
       "      <td>2020-04-10 09:47:00</td>\n",
       "      <td>983.8</td>\n",
       "      <td>29.0</td>\n",
       "      <td>9.6</td>\n",
       "      <td>-7.4</td>\n",
       "      <td>14.4</td>\n",
       "      <td>848</td>\n",
       "      <td>716.0</td>\n",
       "      <td>742</td>\n",
       "    </tr>\n",
       "    <tr>\n",
       "      <th>1</th>\n",
       "      <td>2020-04-10 10:47:00</td>\n",
       "      <td>982.3</td>\n",
       "      <td>25.0</td>\n",
       "      <td>10.9</td>\n",
       "      <td>-7.9</td>\n",
       "      <td>14.3</td>\n",
       "      <td>436</td>\n",
       "      <td>7200.0</td>\n",
       "      <td>796</td>\n",
       "    </tr>\n",
       "    <tr>\n",
       "      <th>2</th>\n",
       "      <td>2020-04-10 11:17:00</td>\n",
       "      <td>980.8</td>\n",
       "      <td>25.0</td>\n",
       "      <td>11.5</td>\n",
       "      <td>-7.4</td>\n",
       "      <td>13.7</td>\n",
       "      <td>389</td>\n",
       "      <td>396.0</td>\n",
       "      <td>354</td>\n",
       "    </tr>\n",
       "  </tbody>\n",
       "</table>\n",
       "</div>"
      ],
      "text/plain": [
       "            timestamp  barometric_pressure_Avg  relative_humidity_Avg   \n",
       "0 2020-04-10 09:47:00                    983.8                   29.0  \\\n",
       "1 2020-04-10 10:47:00                    982.3                   25.0   \n",
       "2 2020-04-10 11:17:00                    980.8                   25.0   \n",
       "\n",
       "   air_temperature_Avg   DP  BattVolt  counts_1_Tot  counts_2_Tot   \n",
       "0                  9.6 -7.4      14.4           848         716.0  \\\n",
       "1                 10.9 -7.9      14.3           436        7200.0   \n",
       "2                 11.5 -7.4      13.7           389         396.0   \n",
       "\n",
       "   counts_3_Tot  \n",
       "0           742  \n",
       "1           796  \n",
       "2           354  "
      ]
     },
     "execution_count": 2,
     "metadata": {},
     "output_type": "execute_result"
    }
   ],
   "source": [
    "# Load observations from a stationary detector\n",
    "filepath = \"https://raw.githubusercontent.com/soilwater/crnpy/main/docs/examples/stationary/rdt.csv\"\n",
    "\n",
    "# Read the DataFrame\n",
    "df = pd.read_csv(filepath, names=['timestamp','barometric_pressure_Avg','relative_humidity_Avg', 'air_temperature_Avg','DP','BattVolt','counts_1_Tot','counts_2_Tot','counts_3_Tot'])\n",
    "\n",
    "# Parse timestamps\n",
    "df['timestamp'] = pd.to_datetime(df['timestamp'])\n",
    "\n",
    "# Display a few rows of the dataset\n",
    "df.head(3)\n"
   ]
  },
  {
   "cell_type": "code",
   "execution_count": 3,
   "id": "cc9e9b6b-93fa-4eb5-b7dc-5b4522764dca",
   "metadata": {},
   "outputs": [
    {
     "name": "stdout",
     "output_type": "stream",
     "text": [
      "Removed a total of 48 rows.\n",
      "Added a total of 60 missing timestamps.\n"
     ]
    }
   ],
   "source": [
    "# Remove rows with incomplete intervals\n",
    "df = crnpy.remove_incomplete_intervals(df, timestamp_col='timestamp', integration_time=3600, remove_first=True)\n",
    "\n",
    "# Fill missing timestamps to create a conplete record\n",
    "df = crnpy.fill_missing_timestamps(df, timestamp_col='timestamp', freq='H', round_timestamp=True)\n"
   ]
  },
  {
   "cell_type": "markdown",
   "id": "06ba6259-4ef4-432b-a4d3-1314a864e768",
   "metadata": {},
   "source": [
    "Utilize the [`total_raw_counts()`](../../../reference/#crnpy.crnpy.total_raw_counts) function to calculate the total counts across all detectors. After calculating the total counts, identify outliers using the [`is_outlier()`](../../../reference/#crnpy.crnpy.is_outlier) function."
   ]
  },
  {
   "cell_type": "code",
   "execution_count": 4,
   "id": "4f88a547",
   "metadata": {},
   "outputs": [],
   "source": [
    "# Flag and fill outliers\n",
    "cols_counts = ['counts_1_Tot','counts_2_Tot','counts_3_Tot']\n",
    "for col in cols_counts:\n",
    "    \n",
    "    # Find outliers\n",
    "    idx_outliers = crnpy.is_outlier(df[col], method='scaled_mad', min_val=500, max_val=2000)\n",
    "    df.loc[idx_outliers,col] = np.nan\n",
    "    \n",
    "    # Fill missing values with linear interpolation and round to nearest integer\n",
    "    df[col] = df[col].interpolate(method='linear', limit=3, limit_direction='both').round()\n"
   ]
  },
  {
   "cell_type": "code",
   "execution_count": 5,
   "id": "adfb3732-d8e6-4cb5-a877-244d986b3468",
   "metadata": {},
   "outputs": [],
   "source": [
    "# Compute total cunts\n",
    "df['total_raw_counts'] = crnpy.total_raw_counts(df[cols_counts], nan_strategy='average')\n"
   ]
  },
  {
   "cell_type": "code",
   "execution_count": 6,
   "id": "c2c94ddb-5e3e-43a8-b9f7-2fe4c59789a9",
   "metadata": {},
   "outputs": [
    {
     "data": {
      "image/png": "[encoded data removed]",
      "text/plain": [
       "<Figure size 1000x300 with 1 Axes>"
      ]
     },
     "metadata": {},
     "output_type": "display_data"
    }
   ],
   "source": [
    "# Plot total counts\n",
    "# Create a new figure and plot the data\n",
    "fig, ax = plt.subplots(figsize=(10, 3))  # Set the figure size\n",
    "ax.plot(df['timestamp'], df['total_raw_counts'], label='Raw Counts', color='black', linewidth=.8)\n",
    "# Set the labels for the x-axis and y-axis\n",
    "ax.set_xlabel(\"Date\")\n",
    "ax.set_ylabel(\"Total Raw Counts\")\n",
    "\n",
    "# Set the title of the plot\n",
    "ax.set_title('Total Raw Counts Over Time')\n",
    "\n",
    "# Adjust size of axes labels\n",
    "ax.tick_params(axis='both', which='major')\n",
    "\n",
    "# Show the plot\n",
    "plt.show()\n"
   ]
  },
  {
   "cell_type": "markdown",
   "id": "118e790d-dbd8-4c0a-b607-776ffd3260a3",
   "metadata": {},
   "source": [
    "### Neutron count correction\n",
    "\n",
    "#### Incomming neutron flux\n",
    "\n",
    "Find similar neutron monitors based on altitude and cutoff rigidity, which is estimated based on the geographic location using latitude and longitude values. See [`get_incoming_neutron_flux()`](../../../reference/#crnpy.crnpy.get_incoming_neutron_flux), [`find_neutron_monitor()`](../../../reference/#crnpy.crnpy.find_neutron_monitor) and [`correction_incoming_flux()`](../../../reference/#crnpy.crnpy.correction_incoming_flux). \n",
    "\n",
    "In this particular example we selected the `\"IRKT\"` monitor since it has a similar cuoff rigidity and altitude as our site. The reference neutron monitor will likely be different for your location. Note that the function only reports neutron monitors based on cutoff rigidity and leaves to the user the selection of a reference neutron monitor based on the altitude of the location."
   ]
  },
  {
   "cell_type": "code",
   "execution_count": null,
   "id": "ebf24428-b436-4f29-88f5-16eb4a290753",
   "metadata": {},
   "outputs": [],
   "source": [
    "# Define study start and end dates\n",
    "start_date = df.iloc[0]['timestamp']\n",
    "end_date = df.iloc[-1]['timestamp']\n",
    "\n",
    "# Define geographic coordiantes\n",
    "lat = 39.110596\n",
    "lon = -96.613050\n",
    "\n",
    "# Find stations with cutoff rigidity similar to estimated by lat,lon\n",
    "crnpy.find_neutron_monitor(crnpy.cutoff_rigidity(lat, lon), start_date=start_date, end_date=end_date, verbose=False)\n"
   ]
  },
  {
   "cell_type": "code",
   "execution_count": null,
   "id": "cdfe2331",
   "metadata": {},
   "outputs": [],
   "source": [
    "# Download incoming neutron flux data from the Neutron Monitor Database (NMDB).\n",
    "# Use utc_offset for Central Standard Time.\n",
    "nmdb = crnpy.get_incoming_neutron_flux(start_date, end_date, station=\"IRKT\", utc_offset=-6)\n"
   ]
  },
  {
   "cell_type": "code",
   "execution_count": null,
   "id": "64f2ce8d-6f2f-45ae-894c-9691e9285f72",
   "metadata": {},
   "outputs": [],
   "source": [
    "# Interpolate incoming neutron flux to match the timestamps in our station data\n",
    "df['incoming_flux'] = crnpy.interpolate_incoming_flux(nmdb['timestamp'], nmdb['counts'], df['timestamp'])\n"
   ]
  },
  {
   "cell_type": "code",
   "execution_count": null,
   "id": "426a5a23-6672-4df4-869b-55fe5155d324",
   "metadata": {},
   "outputs": [],
   "source": [
    "# Compute correction factor for incoming neutron flux\n",
    "df['fi'] = crnpy.correction_incoming_flux(incoming_neutrons=df['incoming_flux'],\n",
    "                                          incoming_Ref=df['incoming_flux'].iloc[0])\n"
   ]
  },
  {
   "cell_type": "markdown",
   "id": "d0b8d4af-ee60-4418-83c5-207d2fa7946c",
   "metadata": {},
   "source": [
    "#### Atmospheric correction\n",
    "\n",
    "This section is about correcting the atmospheric variables. First, fill the missing values in the atmospheric data, then correct the count for atmospheric variables using [`correction_humidity()`](../../../reference/#crnpy.crnpy.correction_humidity) and [`correction_pressure()`](../../../reference/#crnpy.crnpy.correction_pressure). "
   ]
  },
  {
   "cell_type": "code",
   "execution_count": null,
   "id": "26db5ece",
   "metadata": {},
   "outputs": [],
   "source": [
    "# Fill NaN values in atmospheric data and neutron counts\n",
    "df[['barometric_pressure_Avg','relative_humidity_Avg', 'air_temperature_Avg']] = df[['barometric_pressure_Avg','relative_humidity_Avg', 'air_temperature_Avg']].interpolate(method='pchip', limit=24, limit_direction='both')\n",
    "\n",
    "# Compute the pressure correction factor \n",
    "df['fp'] = crnpy.correction_pressure(pressure=df['barometric_pressure_Avg'], Pref=df['barometric_pressure_Avg'].mean(), L=130)\n",
    "\n",
    "# Calculate the absolute humidity (g cm^-3) and the vapor pressure correction factor\n",
    "df['abs_humidity'] = crnpy.abs_humidity(df['relative_humidity_Avg'], df['air_temperature_Avg'])\n",
    "df['fw'] = crnpy.correction_humidity(abs_humidity=df['abs_humidity'], Aref=0)\n"
   ]
  },
  {
   "cell_type": "code",
   "execution_count": null,
   "id": "486e685c-0bd5-4fbb-ac4a-aef8bd25fba3",
   "metadata": {},
   "outputs": [],
   "source": [
    "# Plot all the correction factors\n",
    "fig, ax = plt.subplots(figsize=(10, 3))  # Set the figure size\n",
    "ax.plot(df['timestamp'], df['fp'], label='Pressure',color='tomato', linewidth=1)\n",
    "ax.plot(df['timestamp'], df['fw'], label='Humidity', color='navy', linewidth=1)\n",
    "ax.plot(df['timestamp'], df['fi'], label='Incoming Flux', color='olive', linewidth=1)\n",
    "ax.set_xlabel(\"Date\")\n",
    "ax.set_ylabel('Correction Factor')\n",
    "ax.legend()\n",
    "ax.set_title('Correction Factors for Pressure, Humidity, and Incoming Flux')\n"
   ]
  },
  {
   "cell_type": "code",
   "execution_count": null,
   "id": "b0f0854a-a5b4-445f-ad5b-611554b609fd",
   "metadata": {},
   "outputs": [],
   "source": [
    "# Apply correction factors\n",
    "df['total_corrected_neutrons'] = df['total_raw_counts'] * df['fw'] / (df['fp'] * df['fi'])\n"
   ]
  },
  {
   "cell_type": "code",
   "execution_count": null,
   "id": "b97c2a68-971e-4a62-a4c8-9c0793e88935",
   "metadata": {},
   "outputs": [],
   "source": [
    "fig, ax = plt.subplots(figsize=(10, 3))  # Set the figure size\n",
    "\n",
    "# Subplot 1: Raw and Corrected Counts\n",
    "ax.plot(df['timestamp'], df['total_raw_counts'], label='Raw Counts', color='black', linestyle='dashed', linewidth=.8)\n",
    "ax.plot(df['timestamp'], df['total_corrected_neutrons'], label='Corrected Counts', color='teal', linewidth=.8)\n",
    "ax.set_xlabel(\"Date\")\n",
    "ax.set_ylabel('Counts')\n",
    "ax.legend()\n",
    "ax.set_title('Raw and Corrected Counts')\n"
   ]
  },
  {
   "cell_type": "markdown",
   "id": "04249a5c-97b0-4d56-b1a3-c31d625f4ff9",
   "metadata": {},
   "source": [
    "Convert the smoothed neutron counts to Volumetric Water Content (VWC) using the [`counts_to_vwc()`](../../../reference/#crnpy.crnpy.counts_to_vwc). The function considers the smoothed neutron counts, $N_0$ specific parameter, soil bulk density, weight percent of latent water (Wlat), and weight percent of soil organic carbon (Wsoc). After conversion, plot the VWC against the timestamp for visual analysis. [`smooth_1d()`](../../../reference/#crnpy.crnpy.smooth_1d) is applied for smoothing the data using a Savitzky-Golay filter.\n",
    "\n"
   ]
  },
  {
   "cell_type": "code",
   "execution_count": null,
   "id": "4141ce70",
   "metadata": {},
   "outputs": [],
   "source": [
    "# Device N0 parameter\n",
    "N0_rdt = 3767 # Patrignani, A., Ochsner, T. E., Montag, B., & Bellinger, S. (2021). A novel lithium foil cosmic-ray neutron detector for measuring field-scale soil moisture. Frontiers in Water, 3, 673185.\n",
    "\n",
    "# Estimate lattice water (%) based on texture\n",
    "lattice_water = crnpy.lattice_water(clay_content=0.35)\n",
    "\n",
    "df['VWC'] = crnpy.counts_to_vwc(df['total_corrected_neutrons'], N0=N0_rdt, bulk_density=1.33, Wlat=lattice_water, Wsoc=0.01)\n",
    "\n",
    "# Drop any NaN beofre smoothing\n",
    "df = df.dropna(subset=['VWC']).copy().reset_index()\n",
    "\n",
    "# Filter using the Savitzky-Golay filter, drop NaN values and timestamps\n",
    "df['VWC'] = crnpy.smooth_1d(df['VWC'], window=11, order=3, method=\"savitzky_golay\")\n"
   ]
  },
  {
   "cell_type": "code",
   "execution_count": null,
   "id": "b8b23f04-b6eb-4827-8f69-bcc396def520",
   "metadata": {},
   "outputs": [],
   "source": [
    "# Plot the obtained time series of volumetric water content\n",
    "# Create a new figure and plot the data\n",
    "fig, ax = plt.subplots(figsize=(10, 4))  # Set the figure size\n",
    "ax.plot(df['timestamp'], df['VWC'], color='teal', linewidth=1.0)\n",
    "\n",
    "# Set the labels for the x-axis and y-axis\n",
    "ax.set_xlabel(\"Date\")\n",
    "ax.set_ylabel(r\"Volumetric Water Content (m^3 \\cdot m^{-3})\")\n",
    "\n",
    "# Set the title of the plot\n",
    "ax.set_title('Soil Moisture')\n",
    "\n",
    "# Show the plot\n",
    "plt.show()\n"
   ]
  },
  {
   "cell_type": "markdown",
   "id": "8f4e8081-e19b-4890-b7ed-6bdbc90b653f",
   "metadata": {},
   "source": [
    "### Sensing depth and soil water storage\n",
    "\n",
    "Estimate the [`sensing_depth()`](https://soilwater.github.io/crnpy/reference/#crnpy.crnpy.sensing_depth)  at which 86 % of the neutrons probes the soil profile, and estimate the soil water [`storage()`](https://soilwater.github.io/crnpy/reference/#crnpy.crnpy.storage) of the top 50 cm using and exponential filter."
   ]
  },
  {
   "cell_type": "code",
   "execution_count": null,
   "id": "ddafed0f-b231-4f22-b2c2-467decf21072",
   "metadata": {},
   "outputs": [],
   "source": [
    "# Estimate sensing depth\n",
    "df['sensing_depth'] = crnpy.sensing_depth(df['VWC'], df['barometric_pressure_Avg'], df['barometric_pressure_Avg'].mean(), bulk_density=1.33, Wlat=lattice_water, method = \"Franz_2012\")\n",
    "print(f\"Average sensing depth: {np.round(df['sensing_depth'].mean(),2)} cm\")\n"
   ]
  },
  {
   "cell_type": "code",
   "execution_count": null,
   "id": "cc960e0b-34ca-4144-86d3-d093a8aff5de",
   "metadata": {},
   "outputs": [],
   "source": [
    "# Compute the storage using the exponential filter\n",
    "surface = df['VWC']\n",
    "subsurface = crnpy.exp_filter(df['VWC'])\n",
    "\n",
    "z_surface = 150 # Average depth in mm obtained from previous cell using crnpy.sensing_depth()\n",
    "z_subsurface = 350 # Arbitrary subsurface depth in mm\n",
    "df['storage'] = np.sum([surface*z_surface, subsurface*z_subsurface], axis=0)\n"
   ]
  },
  {
   "cell_type": "code",
   "execution_count": null,
   "id": "32a93d50-597d-4b84-8c57-529d525788ae",
   "metadata": {},
   "outputs": [],
   "source": [
    "# Plot the obtained time series of soil water storage\n",
    "# Create a new figure and plot the data\n",
    "fig, ax = plt.subplots(figsize=(10, 4))  # Set the figure size\n",
    "ax.plot(df['timestamp'], df['storage'], color='teal', linewidth=1.0)\n",
    "\n",
    "# Set the labels for the x-axis and y-axis\n",
    "ax.set_xlabel(\"Date\")\n",
    "ax.set_ylabel(\"Storage (mm)\")\n",
    "\n",
    "# Set the title of the plot\n",
    "ax.set_title('Soil Water Storage')\n",
    "\n",
    "# Show the plot\n",
    "plt.show()\n"
   ]
  },
  {
   "cell_type": "markdown",
   "id": "b496b9fa",
   "metadata": {},
   "source": [
    "### Uncertainty estimation\n",
    "\n",
    "Estimate the uncertainty of the volumetric water content using the [`uncertainty_vwc()`](https://soilwater.github.io/crnpy/reference/#crnpy.crnpy.uncertainty_vwc) function. Optionally see [`uncertainty_counts()`](https://soilwater.github.io/crnpy/reference/#crnpy.crnpy.uncertainty_counts) for estimating the uncertainty of the neutron counts."
   ]
  },
  {
   "cell_type": "code",
   "execution_count": null,
   "id": "c7364a0e",
   "metadata": {
    "collapsed": false,
    "jupyter": {
     "outputs_hidden": false
    }
   },
   "outputs": [],
   "source": [
    "# Estimate the uncertainty of the volumetric water content\n",
    "df['sigma_VWC'] = crnpy.uncertainty_vwc(df['total_raw_counts'], N0=N0_rdt, bulk_density=1.33, fp=df['fp'], fi=df['fi'], fw=df['fw'])\n",
    "\n",
    "# Plot the VWC with uncertainty as a shaded area\n",
    "fig, ax = plt.subplots(figsize=(10, 4))  # Set the figure size\n",
    "ax.plot(df['timestamp'], df['VWC'], color='black', linewidth=1.0)\n",
    "ax.fill_between(df['timestamp'], df['VWC']-df['sigma_VWC'], df['VWC']+df['sigma_VWC'], color='teal', alpha=0.5, label = r\"Standard Deviation $\\theta_v$\")\n",
    "ax.set_title('Volumentric Water Content with Uncertainty')\n",
    "ax.set_xlabel(\"Date\")\n",
    "ax.set_ylabel(r\"Volumetric Water Content (m^3 \\cdot m^{-3})\")\n",
    "plt.legend()\n",
    "plt.show()\n"
   ]
  }
 ],
 "metadata": {
  "kernelspec": {
   "display_name": "Python 3 (ipykernel)",
   "language": "python",
   "name": "python3"
  },
  "language_info": {
   "codemirror_mode": {
    "name": "ipython",
    "version": 3
   },
   "file_extension": ".py",
   "mimetype": "text/x-python",
   "name": "python",
   "nbconvert_exporter": "python",
   "pygments_lexer": "ipython3",
   "version": "3.10.10"
  }
 },
 "nbformat": 4,
 "nbformat_minor": 5
}
