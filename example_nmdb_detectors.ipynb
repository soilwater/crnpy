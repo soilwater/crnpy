{
 "cells": [
  {
   "cell_type": "markdown",
   "id": "5a6fdc6c-9706-4553-8624-68992df4ce65",
   "metadata": {},
   "source": [
    "# Neutron Detectors\n",
    "\n",
    "Tutorial to find neutron detectors from the Neutron Monitor Database measuring the incoming neutron flux in locations with similar cutoff rigidity and altitude."
   ]
  },
  {
   "cell_type": "code",
   "execution_count": 1,
   "id": "5deeaf0e-5392-4811-840e-5799768d411a",
   "metadata": {},
   "outputs": [],
   "source": [
    "from crnpy import crnpy"
   ]
  },
  {
   "cell_type": "code",
   "execution_count": 2,
   "id": "64cd0fcf-a4fa-4320-a9ea-76f720331788",
   "metadata": {},
   "outputs": [
    {
     "name": "stdout",
     "output_type": "stream",
     "text": [
      "Estimated cutoff rigidity: 2.87\n",
      "\n",
      "Select a station with an altitude similar to that of your location. For more information go to: 'https://www.nmdb.eu/nest/help.php#helpstations\n",
      "\n",
      "     STID                          NAME     R  Altitude_m\n",
      "42   NVBK                   Novosibirsk  2.91         163\n",
      "9    CLMX                        Climax  3.00        3400\n",
      "13   DRBS                       Dourbes  3.18         225\n",
      "31   MCRL  Mobile Cosmic Ray Laboratory  2.46         200\n",
      "33   MOSC                        Moscow  2.43         200\n",
      "40   NEWK                        Newark  2.40          50\n",
      "28  KIEL2                        KielRT  2.36          54\n",
      "27   KIEL                          Kiel  2.36          54\n",
      "32   MGDN                       Magadan  2.10         220\n",
      "21   IRKT                       Irkustk  3.64         435\n"
     ]
    }
   ],
   "source": [
    "# Manhattan, KS (elevation 325 m a.s.l.)\n",
    "lat = 39.11\n",
    "lon = -96.61\n",
    "Rc = crnpy.cutoff_rigidity(lat,lon)\n",
    "print('Estimated cutoff rigidity:',Rc)\n",
    "\n",
    "crnpy.find_neutron_detectors(Rc)"
   ]
  }
 ],
 "metadata": {
  "kernelspec": {
   "display_name": "Python 3 (ipykernel)",
   "language": "python",
   "name": "python3"
  },
  "language_info": {
   "codemirror_mode": {
    "name": "ipython",
    "version": 3
   },
   "file_extension": ".py",
   "mimetype": "text/x-python",
   "name": "python",
   "nbconvert_exporter": "python",
   "pygments_lexer": "ipython3",
   "version": "3.9.7"
  }
 },
 "nbformat": 4,
 "nbformat_minor": 5
}
