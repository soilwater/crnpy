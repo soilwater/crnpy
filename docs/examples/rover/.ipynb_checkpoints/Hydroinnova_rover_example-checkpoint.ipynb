{
 "cells": [
  {
   "cell_type": "markdown",
   "id": "bbc0a6eb-7b4f-4992-87a2-51766af67400",
   "metadata": {},
   "source": [
    "# Processing and Analyzing Hydroinnova Rover Data with CRNPy\n",
    "\n",
    "This tutorial demonstrates how to process and analyze data from a rover using the Cosmic Ray Neutron Python (CRNPy) library. The steps include loading the data, converting geographical coordinates to Cartesian coordinates, normalizing neutron counts, correcting for atmospheric effects, and visualizing the results.\n"
   ]
  },
  {
   "cell_type": "code",
   "execution_count": 26,
   "id": "67a44292-979c-4c06-a7f7-c49dc4e70c88",
   "metadata": {},
   "outputs": [],
   "source": [
    "# Import modules\n",
    "import numpy as np\n",
    "import pandas as pd\n",
    "from crnpy import crnpy\n",
    "import matplotlib.pyplot as plt\n",
    "\n"
   ]
  },
  {
   "cell_type": "markdown",
   "id": "bc679905-c215-400a-b7a3-8c6089419270",
   "metadata": {},
   "source": [
    "We begin by loading the sample dataset. The data is stored in a .csv file. The column names are defined and the data is loaded into a pandas DataFrame.\n",
    "\n",
    "Note that the longitude data is multiplied by -1 as the raw data is in absolute values. Timestamps are parsed and set as the DataFrame index. Rows with missing coordinates are removed from the DataFrame."
   ]
  },
  {
   "cell_type": "code",
   "execution_count": 27,
   "id": "8604fb97-47c4-4de8-a84c-6cfc4d9825ae",
   "metadata": {},
   "outputs": [
    {
     "data": {
      "text/html": [
       "<div>\n",
       "<style scoped>\n",
       "    .dataframe tbody tr th:only-of-type {\n",
       "        vertical-align: middle;\n",
       "    }\n",
       "\n",
       "    .dataframe tbody tr th {\n",
       "        vertical-align: top;\n",
       "    }\n",
       "\n",
       "    .dataframe thead th {\n",
       "        text-align: right;\n",
       "    }\n",
       "</style>\n",
       "<table border=\"1\" class=\"dataframe\">\n",
       "  <thead>\n",
       "    <tr style=\"text-align: right;\">\n",
       "      <th></th>\n",
       "      <th>RecordNum</th>\n",
       "      <th>Date Time(UTC)</th>\n",
       "      <th>PTB110_mb</th>\n",
       "      <th>P4_mb</th>\n",
       "      <th>P1_mb</th>\n",
       "      <th>T1_C</th>\n",
       "      <th>RH1</th>\n",
       "      <th>T_CS215</th>\n",
       "      <th>RH_CS215</th>\n",
       "      <th>Vbat</th>\n",
       "      <th>...</th>\n",
       "      <th>LongDec</th>\n",
       "      <th>Alt</th>\n",
       "      <th>Qual</th>\n",
       "      <th>NumSats</th>\n",
       "      <th>HDOP</th>\n",
       "      <th>Speed_kmh</th>\n",
       "      <th>COG</th>\n",
       "      <th>SpeedQuality</th>\n",
       "      <th>strDate</th>\n",
       "      <th>timestamp</th>\n",
       "    </tr>\n",
       "  </thead>\n",
       "  <tbody>\n",
       "    <tr>\n",
       "      <th>0</th>\n",
       "      <td>2</td>\n",
       "      <td>2018/05/01 14:15:00</td>\n",
       "      <td>962.95</td>\n",
       "      <td>962.8</td>\n",
       "      <td>961.4</td>\n",
       "      <td>23.2</td>\n",
       "      <td>35.4</td>\n",
       "      <td>20.9</td>\n",
       "      <td>72.7</td>\n",
       "      <td>13.574</td>\n",
       "      <td>...</td>\n",
       "      <td>-97.37195</td>\n",
       "      <td>393.2</td>\n",
       "      <td>2.0</td>\n",
       "      <td>10</td>\n",
       "      <td>0.8</td>\n",
       "      <td>0.00</td>\n",
       "      <td>270.7</td>\n",
       "      <td>A</td>\n",
       "      <td>10518.0</td>\n",
       "      <td>2018-05-01 14:15:00</td>\n",
       "    </tr>\n",
       "    <tr>\n",
       "      <th>1</th>\n",
       "      <td>3</td>\n",
       "      <td>2018/05/01 14:16:00</td>\n",
       "      <td>962.88</td>\n",
       "      <td>962.7</td>\n",
       "      <td>961.3</td>\n",
       "      <td>23.3</td>\n",
       "      <td>35.5</td>\n",
       "      <td>21.0</td>\n",
       "      <td>72.7</td>\n",
       "      <td>13.417</td>\n",
       "      <td>...</td>\n",
       "      <td>-97.37197</td>\n",
       "      <td>387.2</td>\n",
       "      <td>2.0</td>\n",
       "      <td>11</td>\n",
       "      <td>0.8</td>\n",
       "      <td>0.00</td>\n",
       "      <td>270.7</td>\n",
       "      <td>A</td>\n",
       "      <td>10518.0</td>\n",
       "      <td>2018-05-01 14:16:00</td>\n",
       "    </tr>\n",
       "    <tr>\n",
       "      <th>2</th>\n",
       "      <td>4</td>\n",
       "      <td>2018/05/01 14:17:00</td>\n",
       "      <td>962.64</td>\n",
       "      <td>962.5</td>\n",
       "      <td>961.1</td>\n",
       "      <td>23.4</td>\n",
       "      <td>35.4</td>\n",
       "      <td>21.2</td>\n",
       "      <td>72.2</td>\n",
       "      <td>13.282</td>\n",
       "      <td>...</td>\n",
       "      <td>-97.37199</td>\n",
       "      <td>388.2</td>\n",
       "      <td>1.0</td>\n",
       "      <td>11</td>\n",
       "      <td>0.8</td>\n",
       "      <td>3.89</td>\n",
       "      <td>356.3</td>\n",
       "      <td>A</td>\n",
       "      <td>10518.0</td>\n",
       "      <td>2018-05-01 14:17:00</td>\n",
       "    </tr>\n",
       "  </tbody>\n",
       "</table>\n",
       "<p>3 rows × 38 columns</p>\n",
       "</div>"
      ],
      "text/plain": [
       "   RecordNum        Date Time(UTC)  PTB110_mb  P4_mb  P1_mb  T1_C   RH1   \n",
       "0          2   2018/05/01 14:15:00     962.95  962.8  961.4  23.2  35.4  \\\n",
       "1          3   2018/05/01 14:16:00     962.88  962.7  961.3  23.3  35.5   \n",
       "2          4   2018/05/01 14:17:00     962.64  962.5  961.1  23.4  35.4   \n",
       "\n",
       "   T_CS215  RH_CS215    Vbat  ...   LongDec    Alt  Qual  NumSats  HDOP   \n",
       "0     20.9      72.7  13.574  ... -97.37195  393.2   2.0       10   0.8  \\\n",
       "1     21.0      72.7  13.417  ... -97.37197  387.2   2.0       11   0.8   \n",
       "2     21.2      72.2  13.282  ... -97.37199  388.2   1.0       11   0.8   \n",
       "\n",
       "   Speed_kmh    COG  SpeedQuality  strDate           timestamp  \n",
       "0       0.00  270.7             A  10518.0 2018-05-01 14:15:00  \n",
       "1       0.00  270.7             A  10518.0 2018-05-01 14:16:00  \n",
       "2       3.89  356.3             A  10518.0 2018-05-01 14:17:00  \n",
       "\n",
       "[3 rows x 38 columns]"
      ]
     },
     "execution_count": 27,
     "metadata": {},
     "output_type": "execute_result"
    }
   ],
   "source": [
    "# Sample dataset\n",
    "col_names = 'RecordNum,Date Time(UTC),PTB110_mb,P4_mb,P1_mb,T1_C,RH1,T_CS215,RH_CS215,Vbat,N1Cts,N2Cts,N3Cts,N4Cts,N5Cts,N6Cts,N7Cts,N8Cts,N1ETsec,N3ETsec,N5ETsec,N7ETsec,N1T(C),N1RH,N5T(C),N5RH,GpsUTC,LatDec,LongDec,Alt,Qual,NumSats,HDOP,Speed_kmh,COG,SpeedQuality,strDate'.split(',')\n",
    "df = pd.read_csv('gypsum_transect_01_may_2018.KSU', skiprows=20, names=col_names)\n",
    "df['LongDec'] = df['LongDec'] * -1 # Raw data is in absolute values\n",
    "\n",
    "# Parse timestamps and set as index\n",
    "df['timestamp'] = pd.to_datetime(df['Date Time(UTC)'])\n",
    "df.set_index(df['timestamp'], inplace=True)\n",
    "\n",
    "# Remove rows with missing coordinates\n",
    "df['LatDec'].replace(0.0, np.nan, inplace=True)\n",
    "df['LongDec'].replace(0.0, np.nan, inplace=True)\n",
    "df.dropna(axis=0, subset=['LatDec','LongDec'], inplace=True)\n",
    "df.reset_index(drop=True, inplace=True)\n",
    "\n",
    "# Display a few rows to visualize dataset\n",
    "df.head(3)\n"
   ]
  },
  {
   "cell_type": "markdown",
   "id": "eac04f4a-b856-41df-9428-f6712b31c7b1",
   "metadata": {},
   "source": [
    "Next, we convert the latitude and longitude to UTM coordinates (x and y) for bettter plotting and analysis. A scatter plot is created to visualize the survey points."
   ]
  },
  {
   "cell_type": "code",
   "execution_count": 28,
   "id": "7daa1ec2-2886-4078-b6f2-d7ed007dd398",
   "metadata": {},
   "outputs": [
    {
     "data": {
      "image/png": "[encoded data removed]",
      "text/plain": [
       "<Figure size 500x500 with 1 Axes>"
      ]
     },
     "metadata": {},
     "output_type": "display_data"
    }
   ],
   "source": [
    "# Convert Lat and Lon to X and Y\n",
    "df['x'],df['y'] = crnpy.latlon_to_utm(df['LatDec'], df['LongDec'], 14, missing_values=0.0)\n",
    "\n",
    "# Create figure of survey points\n",
    "plt.figure(figsize=(5,5))\n",
    "plt.scatter(df['x'], df['y'], marker='o', edgecolor='k', facecolor='w')\n",
    "plt.ticklabel_format(scilimits=(-5,5))\n",
    "plt.xlabel('Easting')\n",
    "plt.ylabel('Northing')\n",
    "plt.show()\n"
   ]
  },
  {
   "cell_type": "markdown",
   "id": "9d203a78-d968-4627-978b-2b4695932df1",
   "metadata": {},
   "source": [
    "Conveniently, the column names for the neutron counts and count times are named in separate varialbes. The counts are normalized to counts per minute in case some observations coverede a different timespan. Total neutron counts are computed and outliers are removed.\n"
   ]
  },
  {
   "cell_type": "code",
   "execution_count": 29,
   "id": "d21e08ee-993c-411f-9e65-15e53bf21685",
   "metadata": {},
   "outputs": [
    {
     "name": "stdout",
     "output_type": "stream",
     "text": [
      "Discarded 5 outliers using modified Z-score.\n"
     ]
    }
   ],
   "source": [
    "# Define columns names\n",
    "counts_colums = ['N1Cts', 'N2Cts', 'N3Cts','N4Cts', 'N5Cts', 'N6Cts', 'N7Cts', 'N8Cts']\n",
    "cont_times_col = ['N1ETsec', 'N1ETsec', 'N3ETsec','N3ETsec', 'N5ETsec', 'N5ETsec', 'N7ETsec', 'N7ETsec']\n",
    "\n",
    "# Normalize counts to counts/min\n",
    "df[counts_colums] = \\\n",
    "    crnpy.normalize_counts(df[counts_colums], \\\n",
    "                           count_time=60, count_times=df[cont_times_col])\n",
    "\n",
    "# Compute total neutron counts\n",
    "df['total_counts'] = crnpy.compute_total_raw_counts(df[counts_colums])\n",
    "df['filtered_counts']=crnpy.drop_outlier(df['total_counts'], window=10)"
   ]
  },
  {
   "cell_type": "markdown",
   "id": "03ac5454-ea0a-495c-8364-1a92438ec270",
   "metadata": {},
   "source": [
    "Next, we find stations with a cutoff rigidity similar to the estimated value based on the latitude and longitude, ensuring that the reference station is under a similar earth electromagnetic field. Data is downloaded for one of the similar stations and added to the DataFrame. Note that the station is hardocded in the second line (`station=\"NEWK\"`) being required that the user manually define this after considering the potential options suggested. "
   ]
  },
  {
   "cell_type": "code",
   "execution_count": null,
   "id": "07527c85-e47a-4f62-9477-a8f470b87aff",
   "metadata": {},
   "outputs": [],
   "source": [
    "#Find stations with cutoff rigidity similar to estimated by lat,lon\n",
    "crnpy.find_neutron_detectors(crnpy.cutoff_rigidity(df['LatDec'][0], df['LongDec'][0]), start_date=df.iloc[0]['timestamp'], end_date=df.iloc[-1]['timestamp'])\n",
    "\n",
    "#Download data for one of the similar stations and add to df\n",
    "incoming_neutrons = crnpy.get_incoming_neutron_flux(start_date=df.iloc[0]['timestamp'], end_date=df.iloc[-1]['timestamp'], station=\"NEWK\", utc_offset=-5, expand_window=2)"
   ]
  },
  {
   "cell_type": "markdown",
   "id": "c28746b2-80b4-496e-b24f-24ff4057c754",
   "metadata": {},
   "source": [
    "The incoming neutron flux is interpolated to match the measured timestamps. This is necessary to align the incoming neutron flux data with the rover data."
   ]
  },
  {
   "cell_type": "code",
   "execution_count": null,
   "id": "db764277-10e1-4de1-8254-2c8ef8f81596",
   "metadata": {},
   "outputs": [],
   "source": [
    "# Interpolate incomming flux hourly to measured timestamps (~ every minute)\n",
    "df['incoming_flux']=crnpy.interpolate_incoming_flux(incoming_neutrons, timestamps=df['timestamp']).values"
   ]
  },
  {
   "cell_type": "markdown",
   "id": "e8dd9c03-e131-411e-aae4-439cf801b27e",
   "metadata": {},
   "source": [
    "NaN values in the atmospheric data are filled. The neutron counts are then corrected for atmospheric variables and the incoming neutron flux, you can optionally pass a `incoming_Ref` parameter in `atm_correction()` to fix a desired value as the reference incomming count for the reference station."
   ]
  },
  {
   "cell_type": "code",
   "execution_count": null,
   "id": "60d3d329-2959-4fa0-958a-d6816b09ca48",
   "metadata": {},
   "outputs": [],
   "source": [
    "# Fill NaN values in atmospheric data\n",
    "df[['PTB110_mb', 'RH_CS215', 'T_CS215']] = crnpy.fill_missing_atm(df[['PTB110_mb', 'RH_CS215', 'T_CS215']])\n",
    "\n",
    "# Correct count by atmospheric variables and incoming flux\n",
    "df['corrected_counts']=crnpy.atm_correction(df['filtered_counts'], pressure=df['PTB110_mb'], humidity=df['RH_CS215'], temp=df['T_CS215'],\n",
    "                                     Pref=df['PTB110_mb'].mean(), Aref=0, L=130, incoming_neutrons=df['incoming_flux'])"
   ]
  },
  {
   "cell_type": "markdown",
   "id": "8fbd8cfc-6b69-4a1c-a662-77531c3df4f1",
   "metadata": {},
   "source": [
    "The corrected counts are smoothed using a 2D smoothing function. The smoothed counts are then converted to volumetric water content (VWC) using the counts_to_vwc function."
   ]
  },
  {
   "cell_type": "code",
   "execution_count": null,
   "id": "6e09f8aa-3a13-4c5d-9b2f-9976c778f2e7",
   "metadata": {},
   "outputs": [],
   "source": [
    "# Smooth variable\n",
    "df['corrected_smoothed'] = crnpy.smooth_2D(df['x'],\n",
    "                                        df['y'],\n",
    "                                        df['corrected_counts'],\n",
    "                                        buffer= 800, method='median', rnd=True)\n",
    "\n",
    "# Estimate Soil Columetric Water Content\n",
    "df['VWC']=crnpy.counts_to_vwc(df['corrected_smoothed'], N0=550, bulk_density=1.3, Wlat=0.03, Wsoc=0.01)\n",
    "df.to_csv(\"debug.csv\")\n",
    "# Drop VWC NaN values before interpolating values\n",
    "df = df.dropna(subset=['VWC'])\n",
    "\n",
    "# Interpolate variable\n",
    "X_pred, Y_pred, Z_pred = crnpy.interpolate_2D(df['x'],\n",
    "                                        df['y'],\n",
    "                                        df['VWC'],\n",
    "                                        dx=250, dy=250, method='cubic')\n",
    "\n"
   ]
  },
  {
   "cell_type": "markdown",
   "id": "d159b9a4-0682-467c-98de-9cb78fee4e78",
   "metadata": {},
   "source": [
    "A gridded map of the VWC is created using the interpolated x, y, and VWC values. The map is displayed using a color map to represent the VWC values.\n"
   ]
  },
  {
   "cell_type": "code",
   "execution_count": null,
   "id": "2a595e5e-5ace-4db3-afc2-e11ca26fa0da",
   "metadata": {},
   "outputs": [],
   "source": [
    "cmap = plt.colormaps['RdYlBu_r']\n",
    "\n",
    "plt.figure(figsize=(6,6))\n",
    "plt.title('Gridded map')\n",
    "plt.pcolormesh(X_pred, Y_pred, Z_pred, cmap=cmap)\n",
    "plt.colorbar(label=r\"Volumetric Water Content $(cm^3 \\cdot cm^{-3})$\", location='right')\n",
    "plt.scatter(df['x'], df['y'], marker='o', edgecolor='k', facecolor='w')\n",
    "plt.ticklabel_format(scilimits=(-5,5))\n",
    "plt.xlabel('Easting', size=14)\n",
    "plt.ylabel('Northing', size=14)\n",
    "#plt.savefig('gridded_counts.jpg', dpi=300)\n",
    "plt.show()\n"
   ]
  },
  {
   "cell_type": "markdown",
   "id": "5c62fa24-b9ed-4786-a788-33febfeb4b69",
   "metadata": {},
   "source": [
    "Finally, a contour map of the VWC is created and displayed. This provides another way to visualize the spatial distribution of the VWC."
   ]
  },
  {
   "cell_type": "code",
   "execution_count": null,
   "id": "858a04a9-6c7a-457f-865d-58419d821054",
   "metadata": {},
   "outputs": [],
   "source": [
    "# Show contour map\n",
    "cmap = plt.colormaps['RdYlBu_r']\n",
    "\n",
    "plt.figure(figsize=(7,6))\n",
    "plt.title('Contours')\n",
    "plt.contourf(X_pred, Y_pred, Z_pred, cmap=cmap)\n",
    "plt.ticklabel_format(scilimits=(-5,5))\n",
    "plt.colorbar(label=r\"Volumetric Water Content $(cm^3 \\cdot cm^{-3})$\", location='right')\n",
    "plt.scatter(df['x'], df['y'], marker='o', edgecolor='k', facecolor='w')\n",
    "\n",
    "#plt.savefig('contour_counts.jpg', dpi=300)\n",
    "plt.show()\n"
   ]
  }
 ],
 "metadata": {
  "kernelspec": {
   "display_name": "Python 3 (ipykernel)",
   "language": "python",
   "name": "python3"
  },
  "language_info": {
   "codemirror_mode": {
    "name": "ipython",
    "version": 3
   },
   "file_extension": ".py",
   "mimetype": "text/x-python",
   "name": "python",
   "nbconvert_exporter": "python",
   "pygments_lexer": "ipython3",
   "version": "3.10.10"
  }
 },
 "nbformat": 4,
 "nbformat_minor": 5
}
