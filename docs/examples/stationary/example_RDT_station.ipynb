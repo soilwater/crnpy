{
 "cells": [
  {
   "cell_type": "markdown",
   "id": "eddf1ad2",
   "metadata": {},
   "source": [
    "# Processing and analyzing data from a stationary detector\n",
    "\n",
    "This tutorial, demonstrates how to process and analyze neutron detection data from 3 Radiation Detection Technologies, Inc (RDT) neutron detectors using the Cosmic Ray Neutron Python (CRNPy) library. The tutorial covers steps including data loading, count data processing, normalization, outlier removal, atmospheric correction, and conversion of neutron counts to Volumetric Water Content (VWC). \n",
    "\n",
    "Firstly, import the required Python libraries, load the data from the [.csv file](https://raw.githubusercontent.com/soilwater/crnpy/main/docs/examples/stationary/rdt.csv). Converting the 'timestamp' column to datetime format is essential for time-based operations. Lastly, setting 'timestamp' as the DataFrame index simplifies the time series analysis."
   ]
  },
  {
   "cell_type": "code",
   "execution_count": 6,
   "id": "8ce956d4",
   "metadata": {},
   "outputs": [],
   "source": [
    "# Import required libraries\n",
    "import pandas as pd\n",
    "import numpy as np\n",
    "from crnpy import crnpy\n",
    "import matplotlib.pyplot as plt\n"
   ]
  },
  {
   "cell_type": "code",
   "execution_count": 7,
   "id": "a18714dd",
   "metadata": {},
   "outputs": [],
   "source": [
    "filepath = \"https://raw.githubusercontent.com/soilwater/crnpy/main/docs/examples/stationary/rdt.csv\"\n",
    "\n",
    "# Read the DataFrame\n",
    "df = pd.read_csv(filepath, names=['timestamp','barometric_pressure_Avg','relative_humidity_Avg', 'air_temperature_Avg','DP','BattVolt','counts_1_Tot','counts_2_Tot','counts_3_Tot'])\n",
    "\n",
    "# Parse timestamps\n",
    "df['timestamp'] = pd.to_datetime(df['timestamp'])\n"
   ]
  },
  {
   "cell_type": "markdown",
   "id": "4c9ebf21-185a-4ed9-8492-253f4960bad8",
   "metadata": {},
   "source": [
    "Count times are computed from timestamp. If 'NaN' values are present, the [`fill_counts()`](../../../reference/#crnpy.crnpy.fill_counts) function will replace them. Recheck for 'NaN' values to confirm that they've been adequately filled."
   ]
  },
  {
   "cell_type": "code",
   "execution_count": 8,
   "id": "fd3cbfc1-087c-4263-b710-2ade53574a09",
   "metadata": {},
   "outputs": [
    {
     "name": "stdout",
     "output_type": "stream",
     "text": [
      "detectors with nan: [False, True, False]\n",
      "Using median count time as expected count time: 3600.0\n",
      "detectors with nan: [False, False, False]\n"
     ]
    },
    {
     "data": {
      "text/html": [
       "<div>\n",
       "<style scoped>\n",
       "    .dataframe tbody tr th:only-of-type {\n",
       "        vertical-align: middle;\n",
       "    }\n",
       "\n",
       "    .dataframe tbody tr th {\n",
       "        vertical-align: top;\n",
       "    }\n",
       "\n",
       "    .dataframe thead th {\n",
       "        text-align: right;\n",
       "    }\n",
       "</style>\n",
       "<table border=\"1\" class=\"dataframe\">\n",
       "  <thead>\n",
       "    <tr style=\"text-align: right;\">\n",
       "      <th></th>\n",
       "      <th>counts_1_Tot</th>\n",
       "      <th>counts_2_Tot</th>\n",
       "      <th>counts_3_Tot</th>\n",
       "    </tr>\n",
       "  </thead>\n",
       "  <tbody>\n",
       "    <tr>\n",
       "      <th>0</th>\n",
       "      <td>848.0</td>\n",
       "      <td>716.0</td>\n",
       "      <td>742.0</td>\n",
       "    </tr>\n",
       "    <tr>\n",
       "      <th>1</th>\n",
       "      <td>436.0</td>\n",
       "      <td>7200.0</td>\n",
       "      <td>796.0</td>\n",
       "    </tr>\n",
       "    <tr>\n",
       "      <th>2</th>\n",
       "      <td>389.0</td>\n",
       "      <td>396.0</td>\n",
       "      <td>354.0</td>\n",
       "    </tr>\n",
       "    <tr>\n",
       "      <th>3</th>\n",
       "      <td>820.0</td>\n",
       "      <td>786.0</td>\n",
       "      <td>714.0</td>\n",
       "    </tr>\n",
       "    <tr>\n",
       "      <th>4</th>\n",
       "      <td>844.0</td>\n",
       "      <td>707.0</td>\n",
       "      <td>734.0</td>\n",
       "    </tr>\n",
       "  </tbody>\n",
       "</table>\n",
       "</div>"
      ],
      "text/plain": [
       "   counts_1_Tot  counts_2_Tot  counts_3_Tot\n",
       "0         848.0         716.0         742.0\n",
       "1         436.0        7200.0         796.0\n",
       "2         389.0         396.0         354.0\n",
       "3         820.0         786.0         714.0\n",
       "4         844.0         707.0         734.0"
      ]
     },
     "execution_count": 8,
     "metadata": {},
     "output_type": "execute_result"
    }
   ],
   "source": [
    "# Get counting times\n",
    "df['integration_time'] = crnpy.get_integration_time(timestamp_col=df['timestamp'])\n",
    "\n",
    "# Check counts for nan values in the counts\n",
    "print(\"detectors with nan:\", [df['counts_1_Tot'].isna().any(),df['counts_2_Tot'].isna().any(),df['counts_3_Tot'].isna().any()])\n",
    "\n",
    "# Fill nan values in detector 2\n",
    "df[['counts_1_Tot','counts_2_Tot','counts_3_Tot']] = crnpy.fill_counts(df[['counts_1_Tot','counts_2_Tot','counts_3_Tot']], integration_times=df['integration_time'])\n",
    "\n",
    "# Check counts for nan values in the counts\n",
    "print(\"detectors with nan:\", [df['counts_1_Tot'].isna().any(),df['counts_2_Tot'].isna().any(),df['counts_3_Tot'].isna().any()])\n",
    "\n",
    "df[['counts_1_Tot','counts_2_Tot','counts_3_Tot']].head()\n"
   ]
  },
  {
   "cell_type": "markdown",
   "id": "5d2536e1-f3b4-45b6-ad18-9741cbd061fc",
   "metadata": {},
   "source": [
    "Normalize the counts to counts per hour using the [`adjust_temporal_counts()`](../../../reference/#crnpy.crnpy.adjust_temporal_counts) function from the crnpy library."
   ]
  },
  {
   "cell_type": "code",
   "execution_count": 9,
   "id": "612a03cc",
   "metadata": {},
   "outputs": [
    {
     "data": {
      "text/html": [
       "<div>\n",
       "<style scoped>\n",
       "    .dataframe tbody tr th:only-of-type {\n",
       "        vertical-align: middle;\n",
       "    }\n",
       "\n",
       "    .dataframe tbody tr th {\n",
       "        vertical-align: top;\n",
       "    }\n",
       "\n",
       "    .dataframe thead th {\n",
       "        text-align: right;\n",
       "    }\n",
       "</style>\n",
       "<table border=\"1\" class=\"dataframe\">\n",
       "  <thead>\n",
       "    <tr style=\"text-align: right;\">\n",
       "      <th></th>\n",
       "      <th>counts_1_Tot</th>\n",
       "      <th>counts_2_Tot</th>\n",
       "      <th>counts_3_Tot</th>\n",
       "    </tr>\n",
       "  </thead>\n",
       "  <tbody>\n",
       "    <tr>\n",
       "      <th>0</th>\n",
       "      <td>NaN</td>\n",
       "      <td>NaN</td>\n",
       "      <td>NaN</td>\n",
       "    </tr>\n",
       "    <tr>\n",
       "      <th>1</th>\n",
       "      <td>436.0</td>\n",
       "      <td>7200.0</td>\n",
       "      <td>796.0</td>\n",
       "    </tr>\n",
       "    <tr>\n",
       "      <th>2</th>\n",
       "      <td>778.0</td>\n",
       "      <td>792.0</td>\n",
       "      <td>708.0</td>\n",
       "    </tr>\n",
       "    <tr>\n",
       "      <th>3</th>\n",
       "      <td>820.0</td>\n",
       "      <td>786.0</td>\n",
       "      <td>714.0</td>\n",
       "    </tr>\n",
       "    <tr>\n",
       "      <th>4</th>\n",
       "      <td>844.0</td>\n",
       "      <td>707.0</td>\n",
       "      <td>734.0</td>\n",
       "    </tr>\n",
       "  </tbody>\n",
       "</table>\n",
       "</div>"
      ],
      "text/plain": [
       "   counts_1_Tot  counts_2_Tot  counts_3_Tot\n",
       "0           NaN           NaN           NaN\n",
       "1         436.0        7200.0         796.0\n",
       "2         778.0         792.0         708.0\n",
       "3         820.0         786.0         714.0\n",
       "4         844.0         707.0         734.0"
      ]
     },
     "execution_count": 9,
     "metadata": {},
     "output_type": "execute_result"
    }
   ],
   "source": [
    "# Normalize counts to counts/h\n",
    "df[['counts_1_Tot','counts_2_Tot','counts_3_Tot']] = crnpy.adjust_temporal_counts(df[['counts_1_Tot','counts_2_Tot','counts_3_Tot']], nominal_integration_time=3600, actual_integration_time=df['integration_time'])\n",
    "\n",
    "df[['counts_1_Tot','counts_2_Tot','counts_3_Tot']].head()\n"
   ]
  },
  {
   "cell_type": "markdown",
   "id": "06ba6259-4ef4-432b-a4d3-1314a864e768",
   "metadata": {},
   "source": [
    "Utilize the [`compute_total_raw_counts()`](../../../reference/#crnpy.crnpy.compute_total_raw_counts) function to calculate the total counts across all detectors. After calculating the total counts, outliers are discarded using the [`drop_outliers()`](../../../reference/#crnpy.crnpy.drop_outliers) function."
   ]
  },
  {
   "cell_type": "code",
   "execution_count": 14,
   "id": "4f88a547",
   "metadata": {},
   "outputs": [
    {
     "name": "stdout",
     "output_type": "stream",
     "text": [
      "NaN values found. Replacing missing values with average of other detectors before summing.\n",
      "Discarded counts below 1500: 1\n",
      "Discarded counts above 3500: 119\n",
      "Discarded 64 outliers using modified Z-score.\n",
      "Using median count time as expected count time: 3600.0\n"
     ]
    }
   ],
   "source": [
    "df['total_raw_counts'] = crnpy.compute_total_raw_counts(df[['counts_1_Tot','counts_2_Tot','counts_3_Tot']], nan_strategy='average')\n",
    "df['total_raw_counts'] = crnpy.drop_outliers(df['total_raw_counts'], min_counts=1500, max_counts=3500, window = 11)\n",
    "df['total_raw_counts'] = crnpy.fill_counts(df['total_raw_counts'],integration_times=df['integration_time'])\n"
   ]
  },
  {
   "cell_type": "code",
   "execution_count": 15,
   "id": "c2c94ddb-5e3e-43a8-b9f7-2fe4c59789a9",
   "metadata": {},
   "outputs": [
    {
     "data": {
      "image/png": "[encoded data removed]",
      "text/plain": [
       "<Figure size 720x360 with 1 Axes>"
      ]
     },
     "metadata": {
      "needs_background": "light"
     },
     "output_type": "display_data"
    }
   ],
   "source": [
    "# Plot total counts\n",
    "# Create a new figure and plot the data\n",
    "fig, ax = plt.subplots(figsize=(10, 5))  # Set the figure size\n",
    "ax.plot(df['timestamp'], df['total_raw_counts'], color='tomato', linewidth=1.0)\n",
    "\n",
    "# Set the labels for the x-axis and y-axis\n",
    "ax.set_xlabel(\"Time\", fontsize=14)\n",
    "ax.set_ylabel(\"Total Raw Counts\", fontsize=14)\n",
    "\n",
    "# Set the title of the plot\n",
    "ax.set_title('Total Raw Counts Over Time')\n",
    "\n",
    "# Show the plot\n",
    "plt.show()"
   ]
  },
  {
   "cell_type": "markdown",
   "id": "118e790d-dbd8-4c0a-b607-776ffd3260a3",
   "metadata": {},
   "source": [
    "### Neutron count correction\n",
    "\n",
    "#### Incomming neutron flux\n",
    "\n",
    "Find similar stations based on cutoff rigidity, which is estimated using latitude and longitude values. See [`get_incoming_neutron_flux()`](../../../reference/#crnpy.crnpy.get_incoming_neutron_flux), [`find_neutron_monitor()`](../../../reference/#crnpy.crnpy.find_neutron_monitor) and [`incoming_flux_correction()`](../../../reference/#crnpy.crnpy.incoming_flux_correction). Note that the station is hardcoded in the second line as `station=\"IRKT\"`. The user is required to manually define this after considering the potential options suggested."
   ]
  },
  {
   "cell_type": "code",
   "execution_count": 17,
   "id": "cdfe2331",
   "metadata": {},
   "outputs": [
    {
     "name": "stdout",
     "output_type": "stream",
     "text": [
      "\n",
      "Select a station with an altitude similar to that of your location. For more information go to: 'https://www.nmdb.eu/nest/help.php#helpstations\n",
      "\n",
      "Your cutoff rigidity is 2.87 GV\n",
      "     STID     NAME     R  Altitude_m  Period available\n",
      "13   DRBS  Dourbes  3.18         225              True\n",
      "40   NEWK   Newark  2.40          50              True\n",
      "28  KIEL2   KielRT  2.36          54              True\n",
      "21   IRKT  Irkustk  3.64         435              True\n"
     ]
    }
   ],
   "source": [
    "start_date = df.iloc[0]['timestamp']\n",
    "end_date = df.iloc[-1]['timestamp']\n",
    "\n",
    "#Find stations with cutoff rigidity similar to estimated by lat,lon\n",
    "crnpy.find_neutron_monitor(crnpy.cutoff_rigidity(39.1, -96.6), start_date=start_date, end_date=end_date)\n",
    "\n",
    "#Download data for one of the similar stations and add to df. Using CST utc offset.\n",
    "incoming_neutrons = crnpy.get_incoming_neutron_flux(start_date, end_date, station=\"IRKT\", utc_offset=-5)\n",
    "\n",
    "# Interpolate incoming neutron flux to match the timestamps in our station data\n",
    "df['incoming_flux']=crnpy.interpolate_incoming_flux(incoming_neutrons, timestamps=df['timestamp'])\n",
    "\n",
    "\n",
    "# Compute correction factor for incoming neutron flux\n",
    "df['fi'] = crnpy.incoming_flux_correction(incoming_neutrons=df['incoming_flux'],\n",
    "                                                  incoming_Ref=incoming_neutrons.iloc[0])\n"
   ]
  },
  {
   "cell_type": "markdown",
   "id": "d0b8d4af-ee60-4418-83c5-207d2fa7946c",
   "metadata": {},
   "source": [
    "#### Atmospheric correction\n",
    "\n",
    "This section is about correcting the atmospheric variables. First, fill the missing values in the atmospheric data, then correct the count for atmospheric variables using [`humidity_correction()`](../../../reference/#crnpy.crnpy.humidity_correction) and [`pressure_correction()`](../../../reference/#crnpy.crnpy.pressure_correction). "
   ]
  },
  {
   "cell_type": "code",
   "execution_count": null,
   "id": "26db5ece",
   "metadata": {},
   "outputs": [],
   "source": [
    "# Fill NaN values in atmospheric data and neutron counts\n",
    "df[['pressure', 'RH', 'T']] = crnpy.fill_missing_atm(df[['pressure', 'RH', 'T']])\n",
    "\n",
    "# Correct count by atmospheric variables and incoming flux\n",
    "df['corrected'] = crnpy.humidity_correction(df['corrected'],humidity=df['RH'], temp=df['T'], Aref=0)\n",
    "df['corrected'] = crnpy.pressure_correction(df['corrected'], pressure=df['pressure'], Pref=df['pressure'].mean(), L=130)\n"
   ]
  },
  {
   "cell_type": "markdown",
   "id": "04249a5c-97b0-4d56-b1a3-c31d625f4ff9",
   "metadata": {},
   "source": [
    "Convert the smoothed neutron counts to Volumetric Water Content (VWC) using the [`counts_to_vwc()`](../../../reference/#crnpy.crnpy.counts_to_vwc). The function considers the smoothed neutron counts, $N_0$ specific parameter, soil bulk density, weight percent of latent water (Wlat), and weight percent of soil organic carbon (Wsoc). After conversion, plot the VWC against the timestamp for visual analysis. [`smooth_1d()`](../../../reference/#crnpy.crnpy.smooth_1d) is pplied for smothing the data using a Savitzky-Golay filter.\n",
    "\n"
   ]
  },
  {
   "cell_type": "code",
   "execution_count": null,
   "id": "4141ce70",
   "metadata": {},
   "outputs": [],
   "source": [
    "# Device N0 parameter\n",
    "N0_rdt = 3767 # Patrignani, A., Ochsner, T. E., Montag, B., & Bellinger, S. (2021). A novel lithium foil cosmic-ray neutron detector for measuring field-scale soil moisture. Frontiers in Water, 3, 673185.\n",
    "\n",
    "# Estimate lattice water (%) based on texture, and convert it to decimal.\n",
    "lattice_water = crnpy.estimate_lattice_water(clay_content=0.35) / 100\n",
    "\n",
    "df['VWC']=crnpy.counts_to_vwc(df['corrected'], N0=N0_rdt, bulk_density=1.33, Wlat=lattice_water, Wsoc=0.01)\n",
    "\n",
    "# Drop any NaN beofre smoothing\n",
    "df = df.dropna(subset=['VWC']).copy().reset_index()\n",
    "\n",
    "# Filter using the Savitzky-Golay filter, drop NaN values and timestamps\n",
    "df['VWC'] = crnpy.smooth_1d(df['VWC'], window=11, order=3, method=\"savitzky_golay\")"
   ]
  },
  {
   "cell_type": "code",
   "execution_count": null,
   "id": "b8b23f04-b6eb-4827-8f69-bcc396def520",
   "metadata": {},
   "outputs": [],
   "source": [
    "# Plot the obtained time series of volumetric water content\n",
    "# Create a new figure and plot the data\n",
    "fig, ax = plt.subplots(figsize=(10, 5))  # Set the figure size\n",
    "ax.plot(df['timestamp'], df['VWC'], color='teal', linewidth=1.0)\n",
    "\n",
    "# Set the labels for the x-axis and y-axis\n",
    "ax.set_xlabel(\"Time\", fontsize=14)\n",
    "ax.set_ylabel(\"Volumetric Water Content\", fontsize=14)\n",
    "\n",
    "# Set the title of the plot\n",
    "ax.set_title('Soil Moisture')\n",
    "\n",
    "# Show the plot\n",
    "plt.show()\n"
   ]
  },
  {
   "cell_type": "markdown",
   "id": "8f4e8081-e19b-4890-b7ed-6bdbc90b653f",
   "metadata": {},
   "source": [
    "### Sensing depth and soil water storage\n",
    "\n",
    "Estimate the [`sensing_depth()`](https://soilwater.github.io/crnpy/reference/#crnpy.crnpy.sensing_depth)  at which 86 % of the neutrons probes the soil profile, and estiamte the soil water [`storage()`](https://soilwater.github.io/crnpy/reference/#crnpy.crnpy.storage) of the top 50 cm using and exponential filter."
   ]
  },
  {
   "cell_type": "code",
   "execution_count": null,
   "id": "ddafed0f-b231-4f22-b2c2-467decf21072",
   "metadata": {},
   "outputs": [],
   "source": [
    "# Estimate sensing depth\n",
    "df['sensing_depth'] = crnpy.sensing_depth(df['VWC'], df['pressure'], df['pressure'].mean(), bulk_density=1.33, Wlat=lattice_water, method = \"Franz_2012\")\n",
    "print(f\"Average sensing depth: {np.round(df['sensing_depth'].mean(),2)} cm\")\n"
   ]
  },
  {
   "cell_type": "code",
   "execution_count": null,
   "id": "cc960e0b-34ca-4144-86d3-d093a8aff5de",
   "metadata": {},
   "outputs": [],
   "source": [
    "# Compute the storage using the exponential filter\n",
    "surface, subsurface = crnpy.storage(df['VWC'], T=1, Z_surface=150, Z_subsurface=350)\n",
    "df['storage'] = np.sum([surface, subsurface], axis=0)\n"
   ]
  },
  {
   "cell_type": "code",
   "execution_count": null,
   "id": "32a93d50-597d-4b84-8c57-529d525788ae",
   "metadata": {},
   "outputs": [],
   "source": [
    "# Plot the obtained time series of soil water storage\n",
    "# Create a new figure and plot the data\n",
    "fig, ax = plt.subplots(figsize=(10, 5))  # Set the figure size\n",
    "ax.plot(df['timestamp'], df['storage'], color='teal', linewidth=1.0)\n",
    "\n",
    "# Set the labels for the x-axis and y-axis\n",
    "ax.set_xlabel(\"Time\", fontsize=14)\n",
    "ax.set_ylabel(\"Storage\", fontsize=14)\n",
    "\n",
    "# Set the title of the plot\n",
    "ax.set_title('Soil Water Storage')\n",
    "\n",
    "# Show the plot\n",
    "plt.show()\n"
   ]
  },
  {
   "cell_type": "code",
   "execution_count": null,
   "id": "2052ecc1-c912-4e1e-bada-17846bd70879",
   "metadata": {},
   "outputs": [],
   "source": []
  }
 ],
 "metadata": {
  "kernelspec": {
   "display_name": "Python 3 (ipykernel)",
   "language": "python",
   "name": "python3"
  },
  "language_info": {
   "codemirror_mode": {
    "name": "ipython",
    "version": 3
   },
   "file_extension": ".py",
   "mimetype": "text/x-python",
   "name": "python",
   "nbconvert_exporter": "python",
   "pygments_lexer": "ipython3",
   "version": "3.9.7"
  }
 },
 "nbformat": 4,
 "nbformat_minor": 5
}
