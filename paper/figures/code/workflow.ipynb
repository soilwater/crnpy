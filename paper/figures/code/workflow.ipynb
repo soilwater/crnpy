{
 "cells": [
  {
   "cell_type": "code",
   "execution_count": 5,
   "id": "04786474-8a61-4ace-8850-bd22bff5a8b8",
   "metadata": {},
   "outputs": [],
   "source": [
    "#!pip install pydot\n",
    "\n",
    "from IPython.display import SVG\n",
    "import pydot"
   ]
  },
  {
   "cell_type": "code",
   "execution_count": 6,
   "id": "64ddac7e-5f4e-4eee-93dd-9bcf2889b589",
   "metadata": {},
   "outputs": [],
   "source": [
    "dot_graph = pydot.graph_from_dot_file(\"diagram.dot\")\n",
    "dot_graph[0].write_png('../workflow.png', prog=\"neato\")\n"
   ]
  },
  {
   "cell_type": "code",
   "execution_count": 7,
   "id": "3d1ada2c-38dc-4018-9718-6a63af37ca58",
   "metadata": {},
   "outputs": [],
   "source": [
    "dot_graph = pydot.graph_from_dot_file(\"diagram-Hydroinnova.dot\")\n",
    "dot_graph[0].write_png('../workflow_hydroinnova.png', prog=\"neato\")\n"
   ]
  },
  {
   "cell_type": "code",
   "execution_count": 8,
   "id": "befb844b-c54f-4104-b59c-899d5f73ffc9",
   "metadata": {},
   "outputs": [],
   "source": [
    "dot_graph = pydot.graph_from_dot_file(\"diagram-RDT.dot\")\n",
    "dot_graph[0].write_png('../workflow_rdt.png', prog=\"neato\")\n"
   ]
  },
  {
   "cell_type": "code",
   "execution_count": null,
   "id": "d2fb9c11-a27f-4e49-9539-da86085e8fdc",
   "metadata": {},
   "outputs": [],
   "source": []
  }
 ],
 "metadata": {
  "kernelspec": {
   "display_name": "Python 3 (ipykernel)",
   "language": "python",
   "name": "python3"
  },
  "language_info": {
   "codemirror_mode": {
    "name": "ipython",
    "version": 3
   },
   "file_extension": ".py",
   "mimetype": "text/x-python",
   "name": "python",
   "nbconvert_exporter": "python",
   "pygments_lexer": "ipython3",
   "version": "3.10.10"
  }
 },
 "nbformat": 4,
 "nbformat_minor": 5
}
