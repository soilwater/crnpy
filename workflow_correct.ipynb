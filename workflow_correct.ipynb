{
 "cells": [
  {
   "cell_type": "markdown",
   "metadata": {},
   "source": [
    "# Example 1\n",
    "\n",
    "Example using a dataset collected by a single trifluoride boron detector manufactured by Hydroinnova, LLC.\n",
    "\n",
    "Goal: Demonstrate the use of `CRNPy` to convert raw sensor data into surface soil water storage following common steps in the scientific literature.\n",
    "\n",
    "Author: Andres Patrignani"
   ]
  },
  {
   "cell_type": "code",
   "execution_count": 3,
   "metadata": {},
   "outputs": [],
   "source": [
    "from crnpy import crnpy\n",
    "import pandas as pd\n",
    "#from bokeh.plotting import figure, show, output_notebook\n",
    "#output_notebook()\n"
   ]
  },
  {
   "cell_type": "code",
   "execution_count": null,
   "metadata": {},
   "outputs": [],
   "source": [
    "# Parameter values\n",
    "par = {'number_detectors':1,\n",
    "       'count_time': 3600,\n",
    "       'Pref':980, \n",
    "       'L':130, \n",
    "       'Aref':0,\n",
    "       'N0':3486, \n",
    "       'Wlat':0.03,\n",
    "       'Wsoc':0.01, \n",
    "       'bulk_density':1.33,\n",
    "       'utc_offset':-6,\n",
    "       'nmdb_station':'IRKT'}\n",
    "\n",
    "variables = {'timestamp':[2],\n",
    "             'temperature':[7],\n",
    "             'humidity':[8],\n",
    "             'pressure':[3],\n",
    "             'counts_raw':[10],\n",
    "             'counts_time':[11]}"
   ]
  },
  {
   "cell_type": "code",
   "execution_count": null,
   "metadata": {},
   "outputs": [],
   "source": [
    "variables = {'timestamp':,\n",
    "             'temperature':[7],\n",
    "             'humidity':[8],\n",
    "             'pressure':[3],\n",
    "             'counts_raw':[10],\n",
    "             'counts_time':[11]}"
   ]
  },
  {
   "cell_type": "code",
   "execution_count": null,
   "metadata": {},
   "outputs": [],
   "source": [
    "\n"
   ]
  },
  {
   "cell_type": "code",
   "execution_count": null,
   "metadata": {},
   "outputs": [],
   "source": [
    "cols_counts = ['counts_1','counts_2','counts_3']\n",
    "df = (df.pipe(crnpy.format_dates,format='%m/%d/%Y %H:%M') \\\n",
    "       .pipe(crnpy.fill_counts,cols_counts,cols_time=[]) \\\n",
    "       .pipe(crnpy.compute_total_raw_counts, cols_counts))"
   ]
  },
  {
   "cell_type": "code",
   "execution_count": null,
   "metadata": {},
   "outputs": [],
   "source": [
    "df.plot('timestamp','counts_1')\n"
   ]
  },
  {
   "cell_type": "code",
   "execution_count": null,
   "metadata": {},
   "outputs": [],
   "source": [
    "df = df.pipe(crnpy.is_outlier, cols_counts, store_outliers=True)"
   ]
  },
  {
   "cell_type": "code",
   "execution_count": null,
   "metadata": {},
   "outputs": [],
   "source": [
    "df.plot('timestamp','counts_1')\n"
   ]
  },
  {
   "cell_type": "code",
   "execution_count": null,
   "metadata": {},
   "outputs": [],
   "source": [
    "df['counts_1'].isna().any()\n"
   ]
  },
  {
   "cell_type": "code",
   "execution_count": null,
   "metadata": {},
   "outputs": [],
   "source": [
    "pd.to_datetime('2020-04-10 09:00:00') in source['timestamp'].values"
   ]
  },
  {
   "cell_type": "code",
   "execution_count": null,
   "metadata": {},
   "outputs": [],
   "source": [
    "for date in date_range:\n",
    "    if date not in source['timestamp'].values:\n",
    "        print(date)\n",
    "        new_line = pd.DataFrame({\"timestamp\":date}, index=[-1])\n",
    "        source = pd.concat([source,new_line])\n",
    "                                 \n",
    "source.sort_values(by='timestamp', inplace=True)\n",
    "source.reset_index(drop=True, inplace=True)\n",
    "print(source.iloc[450:470])"
   ]
  },
  {
   "cell_type": "code",
   "execution_count": null,
   "metadata": {},
   "outputs": [],
   "source": [
    "source.sort_values(by='timestamp', inplace=True)\n",
    "source.reset_index(drop=True, inplace=True)\n",
    "print(source.iloc[450:470])"
   ]
  },
  {
   "cell_type": "code",
   "execution_count": null,
   "metadata": {},
   "outputs": [],
   "source": [
    "df.pipe(pycrns.fill_counts_v2,[['counts_1','counts_2','counts_3']],['counts_time'])"
   ]
  },
  {
   "cell_type": "code",
   "execution_count": null,
   "metadata": {},
   "outputs": [],
   "source": [
    "# Correct neutron counts\n",
    "#data = pycrns.load_data(filename,skip_rows,variables) \n",
    "#data = pycrns.fill_counts(data,par)\n",
    "\n",
    "date = pycrns(filename,skip_rows,variables,par)\n",
    "#data = data.fill_counts(par)\n",
    "data = pycrns.fill_missing_atm(data)\n",
    "data = pycrns.compute_total_counts(data)\n",
    "data = pycrns.get_incoming_neutron_flux(data,par)\n",
    "data = pycrns.atm_correction(data,par)\n",
    "data = pycrns.smooth_counts(data)\n",
    "data = pycrns.counts_to_vwc(data,par)\n",
    "data = pycrns.sensing_depth(data,par,dist=[5,50,150])\n",
    "data = pycrns.storage(data,T=5)"
   ]
  },
  {
   "cell_type": "code",
   "execution_count": null,
   "metadata": {},
   "outputs": [],
   "source": [
    "f = figure(x_axis_type='datetime', width=500, height=300)\n",
    "f.line(data['timestamp'], data['counts_total_raw'], color='green', legend_label='N raw')\n",
    "f.line(data['timestamp'], data['counts_total_corrected'], color='black', legend_label='N corrected')\n",
    "f.line(data['timestamp'], data['counts_total_filtered'], color='tomato', legend_label='N filtered')\n",
    "f.yaxis.axis_label = 'Neutron counts (cph)'\n",
    "show(f)"
   ]
  },
  {
   "cell_type": "code",
   "execution_count": null,
   "metadata": {},
   "outputs": [],
   "source": [
    "f = figure(x_axis_type='datetime', width=500, height=300)\n",
    "f.line(data['timestamp'], data['temperature'])\n",
    "f.line(data['timestamp'], data['humidity'])\n",
    "show(f)"
   ]
  },
  {
   "cell_type": "code",
   "execution_count": null,
   "metadata": {},
   "outputs": [],
   "source": [
    "f = figure(x_axis_type='datetime', width=500, height=300)\n",
    "f.line(data['timestamp'], data['pressure'])\n",
    "f.yaxis.axis_label = 'Atmospheric pressure (mbar)'\n",
    "show(f)"
   ]
  },
  {
   "cell_type": "code",
   "execution_count": null,
   "metadata": {},
   "outputs": [],
   "source": [
    "f = figure(x_axis_type='datetime', width=500, height=300)\n",
    "f.line(data['timestamp'], data['vwc'])\n",
    "f.yaxis.axis_label = 'Volumetric water content (cm^3/cm^3)'\n",
    "show(f)"
   ]
  },
  {
   "cell_type": "code",
   "execution_count": null,
   "metadata": {},
   "outputs": [],
   "source": [
    "f = figure(x_axis_type='datetime', width=500, height=300)\n",
    "f.line(data['timestamp'], data['sensing_depth_D86_5m'], color='tomato', legend_label='5 m')\n",
    "f.line(data['timestamp'], data['sensing_depth_D86_150m'], color='blue', legend_label='150 m')\n",
    "f.yaxis.axis_label = 'Sensing depth (cm)'\n",
    "f.legend.location = 'bottom_left'\n",
    "show(f)"
   ]
  },
  {
   "cell_type": "code",
   "execution_count": null,
   "metadata": {},
   "outputs": [],
   "source": [
    "f = figure(x_axis_type='datetime', width=500, height=300)\n",
    "f.line(data['timestamp'], data['storage_surface'])\n",
    "f.yaxis.axis_label = 'Storage (cmm)'\n",
    "show(f)"
   ]
  },
  {
   "cell_type": "code",
   "execution_count": null,
   "metadata": {},
   "outputs": [],
   "source": [
    "f = figure(x_axis_type='datetime', width=500, height=300)\n",
    "f.line(data['timestamp'], data['storage_rootzone'])\n",
    "f.yaxis.axis_label = 'Storage (cmm)'\n",
    "show(f)"
   ]
  },
  {
   "cell_type": "code",
   "execution_count": null,
   "metadata": {},
   "outputs": [],
   "source": []
  }
 ],
 "metadata": {
  "kernelspec": {
   "display_name": "Python 3 (ipykernel)",
   "language": "python",
   "name": "python3"
  },
  "language_info": {
   "codemirror_mode": {
    "name": "ipython",
    "version": 3
   },
   "file_extension": ".py",
   "mimetype": "text/x-python",
   "name": "python",
   "nbconvert_exporter": "python",
   "pygments_lexer": "ipython3",
   "version": "3.9.7"
  }
 },
 "nbformat": 4,
 "nbformat_minor": 4
}
