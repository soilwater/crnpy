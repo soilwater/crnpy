{
 "cells": [
  {
   "cell_type": "code",
   "execution_count": null,
   "id": "90b12ebe-44ad-4936-9c77-8ac716a7dea1",
   "metadata": {},
   "outputs": [],
   "source": [
    "def find_outliers():\n",
    "    \n"
   ]
  },
  {
   "cell_type": "code",
   "execution_count": null,
   "id": "c55fb852-5ff1-48f8-afae-25ba082bbeee",
   "metadata": {},
   "outputs": [],
   "source": [
    "def exponential_filter:\n",
    "    "
   ]
  },
  {
   "cell_type": "code",
   "execution_count": null,
   "id": "30acae45-888a-492b-85b8-cca741c73109",
   "metadata": {},
   "outputs": [],
   "source": []
  }
 ],
 "metadata": {
  "kernelspec": {
   "display_name": "Python 3 (ipykernel)",
   "language": "python",
   "name": "python3"
  },
  "language_info": {
   "codemirror_mode": {
    "name": "ipython",
    "version": 3
   },
   "file_extension": ".py",
   "mimetype": "text/x-python",
   "name": "python",
   "nbconvert_exporter": "python",
   "pygments_lexer": "ipython3",
   "version": "3.9.7"
  }
 },
 "nbformat": 4,
 "nbformat_minor": 5
}
