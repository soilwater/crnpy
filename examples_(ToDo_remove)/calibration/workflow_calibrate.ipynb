{
 "cells": [
  {
   "cell_type": "markdown",
   "metadata": {},
   "source": [
    "# Workflow for field calibration"
   ]
  },
  {
   "cell_type": "code",
   "execution_count": 10,
   "metadata": {},
   "outputs": [],
   "source": [
    "import numpy as np"
   ]
  },
  {
   "cell_type": "code",
   "execution_count": 36,
   "metadata": {},
   "outputs": [],
   "source": [
    "def nrad_weight(h,theta,distances,depth,rhob=1.4):\n",
    "    \"\"\"Function to compute distance weights corresponding to each soil sample.\n",
    "    \n",
    "    Keyword arguments:\n",
    "    \n",
    "    h -- Air Humidity  from 0.1  to 50    in g/m^3. When h=0, the function will skip the distance weighting.\n",
    "    theta -- Soil Moisture for each sample (0.02 - 0.50 m^3/m^3)\n",
    "    distances -- Distances from the location of each sample to the origin (0.5 - 600 m)\n",
    "    depth -- Depths for each sample (m)\n",
    "    rhob -- Bulk density in g/cm^3\n",
    "\n",
    "    Example: \n",
    "    W = nrad_weight(5,np.array([0.25,0.25,0.25]),np.array([5,10,150]),np.array([0.05,0.05,0.05]),rhob=1.4)\n",
    "    \n",
    "    References:\n",
    "    Köhli, M., Schrön, M., Zreda, M., Schmidt, U., Dietrich, P., and Zacharias, S. (2015). \n",
    "    Footprint characteristics revised for field-scale soil moisture monitoring with cosmic-ray \n",
    "    neutrons. Water Resour. Res. 51, 5772–5790. doi:10.1002/2015WR017169\n",
    "    \"\"\"\n",
    "\n",
    "\n",
    "    # Table A1. Parameters for Fi and D86\n",
    "    p10 = 8735;       p11 = 17.1758; p12 = 11720;      p13 = 0.00978;   p14 = 7045;      p15 = 0.003632;   \n",
    "    p20 = 2.7925e-2;  p21 = 5.0399;  p22 = 2.8544e-2;  p23 = 0.002455;  p24 = 6.851e-5;  p25 = 9.2926; \n",
    "    p30 = 247970;     p31 = 17.63;   p32 = 374655;     p33 = 0.00191;   p34 = 195725; \n",
    "    p40 = 5.4818e-2;  p41 = 15.921;  p42 = 0.6373;     p43 = 5.99e-2;   p44 = 5.425e-4; \n",
    "    p50 = 1383702;    p51 = 4.156;   p52 = 5325;       p53 = 0.00238;   p54 = 0.0156;    p55 = 0.130;     p56 = 1521;\n",
    "    p60 = 6.031e-5;   p61 = 98.5;    p62 = 1.0466e-3;\n",
    "    p70 = 11747;      p71 = 41.66;   p72 = 4521;       p73 = 0.01998;   p74 = 0.00604;   p75 = 2534;      p76 = 0.00475;\n",
    "    p80 = 1.543e-2;   p81 = 10.06;   p82 = 1.807e-2;   p83 = 0.0011;    p84 = 8.81e-5;   p85 = 0.0405;    p86 = 20.24; \n",
    "    p90 = 8.321;      p91 = 0.14249; p92 = 0.96655;    p93 = 26.42;     p94 = 0.0567;  \n",
    "\n",
    "\n",
    "    # Numerical determination of the penetration depth (86%) (Eq. 8)\n",
    "    D86 = 1/rhob*(p90+p91*(p92+np.exp(-1*distances/100))*(p93+theta)/(p94+theta))\n",
    "\n",
    "    # Depth weights (Eq. 7)\n",
    "    Wd = np.exp(-2*depth/D86)\n",
    "\n",
    "    \n",
    "    if h == 0: \n",
    "        W = 1 # skip distance weighting\n",
    "\n",
    "    elif (h >= 0.1) and (h<= 50):\n",
    "\n",
    "        # Functions for Fi (Appendix A)\n",
    "        F1 = p10*(1+p13*h)*np.exp(-p11*theta)+p12*(1+p15*h)-p14*theta\n",
    "        F2 = ((-p20+p24*h)*np.exp(-p21*theta/(1+p25*theta))+p22)*(1+h*p23)\n",
    "        F3 = (p30*(1+p33*h)*np.exp(-p31*theta)+p32-p34*theta)\n",
    "        F4 = p40*np.exp(-p41*theta)+p42-p43*theta+p44*h\n",
    "        F5 = p50*(0.02-1/p55/(h-p55+p56*theta))*(p54-theta)*np.exp(-p51*(theta-p54))+p52*(0.7-h*theta*p53)\n",
    "        F6 = p60*(h+p61)+p62*theta\n",
    "        F7 = (p70*(1-p76*h)*np.exp(-p71*theta*(1-h*p74))+p72-p75*theta)*(2+h*p73)\n",
    "        F8 = ((-p80+p84*h)*np.exp(-p81*theta/(1+p85*h+p86*theta))+p82)*(2+h*p83)\n",
    "\n",
    "        # Distance weights (Eq. 3)\n",
    "        W = np.ones_like(distances)*np.nan\n",
    "        for i in range(len(distances)):\n",
    "            \n",
    "            if (distances[i]<=50) and (distances[i]>0.5):\n",
    "                W[i]=F1[i]*(np.exp(-F2[i]*distances[i]))+F3[i]*np.exp(-F4[i]*distances[i])\n",
    "                \n",
    "            elif (distances[i]>50) and (distances[i]<600):\n",
    "                W[i]=F5[i]*(np.exp(-F6[i]*distances[i]))+F7[i]*np.exp(-F8[i]*distances[i])\n",
    "                \n",
    "            else:\n",
    "                raise ValueError('Input distances are not valid.')\n",
    "\n",
    "    else:\n",
    "        raise ValueError('Air humidity values are out of range.')\n",
    "\n",
    "\n",
    "    # Combined and normalized weights\n",
    "    weights = Wd*W/np.nansum(Wd*W)\n",
    "\n",
    "    return weights\n"
   ]
  },
  {
   "cell_type": "code",
   "execution_count": 38,
   "metadata": {},
   "outputs": [
    {
     "data": {
      "text/plain": [
       "array([0.6666866 , 0.27479822, 0.05851518])"
      ]
     },
     "execution_count": 38,
     "metadata": {},
     "output_type": "execute_result"
    }
   ],
   "source": [
    "nrad_weight(5,np.array([0.25,0.25,0.25]),np.array([5,10,150]),np.array([0.05,0.05,0.05]),rhob=1.4)"
   ]
  },
  {
   "cell_type": "code",
   "execution_count": 34,
   "metadata": {},
   "outputs": [
    {
     "data": {
      "text/plain": [
       "0.01543"
      ]
     },
     "execution_count": 34,
     "metadata": {},
     "output_type": "execute_result"
    }
   ],
   "source": [
    "1.543e-2"
   ]
  }
 ],
 "metadata": {
  "kernelspec": {
   "display_name": "Python 3 (ipykernel)",
   "language": "python",
   "name": "python3"
  },
  "language_info": {
   "codemirror_mode": {
    "name": "ipython",
    "version": 3
   },
   "file_extension": ".py",
   "mimetype": "text/x-python",
   "name": "python",
   "nbconvert_exporter": "python",
   "pygments_lexer": "ipython3",
   "version": "3.11.0"
  }
 },
 "nbformat": 4,
 "nbformat_minor": 4
}
